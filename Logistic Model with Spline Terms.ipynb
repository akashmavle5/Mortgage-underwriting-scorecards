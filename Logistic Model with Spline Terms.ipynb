{
 "cells": [
  {
   "cell_type": "markdown",
   "metadata": {
    "hide_input": true
   },
   "source": [
    "# Logistic Model"
   ]
  },
  {
   "cell_type": "markdown",
   "metadata": {
    "toc": true
   },
   "source": [
    "<h1>Contents<span class=\"tocSkip\"></span></h1>\n",
    "<div class=\"toc\"><ul class=\"toc-item\"><li><span><a href=\"#Logistic-Model\" data-toc-modified-id=\"Logistic-Model-1\"><span class=\"toc-item-num\">1&nbsp;&nbsp;</span>Logistic Model</a></span></li><li><span><a href=\"#Sample-2---w/-splines\" data-toc-modified-id=\"Sample-2---w/-splines-2\"><span class=\"toc-item-num\">2&nbsp;&nbsp;</span>Sample 2 - w/ splines</a></span><ul class=\"toc-item\"><li><ul class=\"toc-item\"><li><span><a href=\"#spline-terms\" data-toc-modified-id=\"spline-terms-2.0.1\"><span class=\"toc-item-num\">2.0.1&nbsp;&nbsp;</span>spline terms</a></span><ul class=\"toc-item\"><li><span><a href=\"#finding-spline-terms\" data-toc-modified-id=\"finding-spline-terms-2.0.1.1\"><span class=\"toc-item-num\">2.0.1.1&nbsp;&nbsp;</span>finding spline terms</a></span></li><li><span><a href=\"#create-spline-terms\" data-toc-modified-id=\"create-spline-terms-2.0.1.2\"><span class=\"toc-item-num\">2.0.1.2&nbsp;&nbsp;</span>create spline terms</a></span></li></ul></li></ul></li><li><span><a href=\"#Tuning-parameter\" data-toc-modified-id=\"Tuning-parameter-2.1\"><span class=\"toc-item-num\">2.1&nbsp;&nbsp;</span>Tuning parameter</a></span><ul class=\"toc-item\"><li><span><a href=\"#Cross-Validation\" data-toc-modified-id=\"Cross-Validation-2.1.1\"><span class=\"toc-item-num\">2.1.1&nbsp;&nbsp;</span>Cross-Validation</a></span></li></ul></li><li><span><a href=\"#sklearn\" data-toc-modified-id=\"sklearn-2.2\"><span class=\"toc-item-num\">2.2&nbsp;&nbsp;</span>sklearn</a></span><ul class=\"toc-item\"><li><span><a href=\"#Coef\" data-toc-modified-id=\"Coef-2.2.1\"><span class=\"toc-item-num\">2.2.1&nbsp;&nbsp;</span>Coef</a></span></li><li><span><a href=\"#KS\" data-toc-modified-id=\"KS-2.2.2\"><span class=\"toc-item-num\">2.2.2&nbsp;&nbsp;</span>KS</a></span></li><li><span><a href=\"#AUC\" data-toc-modified-id=\"AUC-2.2.3\"><span class=\"toc-item-num\">2.2.3&nbsp;&nbsp;</span>AUC</a></span></li><li><span><a href=\"#ROC\" data-toc-modified-id=\"ROC-2.2.4\"><span class=\"toc-item-num\">2.2.4&nbsp;&nbsp;</span>ROC</a></span></li><li><span><a href=\"#Confusion-Matrix\" data-toc-modified-id=\"Confusion-Matrix-2.2.5\"><span class=\"toc-item-num\">2.2.5&nbsp;&nbsp;</span>Confusion Matrix</a></span><ul class=\"toc-item\"><li><span><a href=\"#using-ROC-as-best-threshold\" data-toc-modified-id=\"using-ROC-as-best-threshold-2.2.5.1\"><span class=\"toc-item-num\">2.2.5.1&nbsp;&nbsp;</span>using ROC as best threshold</a></span></li><li><span><a href=\"#using-max-f1-score-as-threshold\" data-toc-modified-id=\"using-max-f1-score-as-threshold-2.2.5.2\"><span class=\"toc-item-num\">2.2.5.2&nbsp;&nbsp;</span>using max f1-score as threshold</a></span></li></ul></li></ul></li><li><span><a href=\"#sklearn-after-adjust-class_weight---cost-sensitive-learning\" data-toc-modified-id=\"sklearn-after-adjust-class_weight---cost-sensitive-learning-2.3\"><span class=\"toc-item-num\">2.3&nbsp;&nbsp;</span>sklearn-after adjust class_weight - cost sensitive learning</a></span><ul class=\"toc-item\"><li><span><a href=\"#KS\" data-toc-modified-id=\"KS-2.3.1\"><span class=\"toc-item-num\">2.3.1&nbsp;&nbsp;</span>KS</a></span></li><li><span><a href=\"#auc\" data-toc-modified-id=\"auc-2.3.2\"><span class=\"toc-item-num\">2.3.2&nbsp;&nbsp;</span>auc</a></span></li><li><span><a href=\"#roc\" data-toc-modified-id=\"roc-2.3.3\"><span class=\"toc-item-num\">2.3.3&nbsp;&nbsp;</span>roc</a></span></li><li><span><a href=\"#confusion-matrix\" data-toc-modified-id=\"confusion-matrix-2.3.4\"><span class=\"toc-item-num\">2.3.4&nbsp;&nbsp;</span>confusion matrix</a></span><ul class=\"toc-item\"><li><span><a href=\"#using-ROC-as-best-threshold\" data-toc-modified-id=\"using-ROC-as-best-threshold-2.3.4.1\"><span class=\"toc-item-num\">2.3.4.1&nbsp;&nbsp;</span>using ROC as best threshold</a></span></li><li><span><a href=\"#using-max-f1-score-as-threshold\" data-toc-modified-id=\"using-max-f1-score-as-threshold-2.3.4.2\"><span class=\"toc-item-num\">2.3.4.2&nbsp;&nbsp;</span>using max f1-score as threshold</a></span></li></ul></li></ul></li><li><span><a href=\"#oversampling\" data-toc-modified-id=\"oversampling-2.4\"><span class=\"toc-item-num\">2.4&nbsp;&nbsp;</span>oversampling</a></span><ul class=\"toc-item\"><li><span><a href=\"#random-oversampling\" data-toc-modified-id=\"random-oversampling-2.4.1\"><span class=\"toc-item-num\">2.4.1&nbsp;&nbsp;</span>random oversampling</a></span></li><li><span><a href=\"#smote-oversampling\" data-toc-modified-id=\"smote-oversampling-2.4.2\"><span class=\"toc-item-num\">2.4.2&nbsp;&nbsp;</span>smote oversampling</a></span></li></ul></li></ul></li></ul></div>"
   ]
  },
  {
   "cell_type": "code",
   "execution_count": 53,
   "metadata": {},
   "outputs": [],
   "source": [
    "import pandas as pd\n",
    "import math \n",
    "import random\n",
    "import numpy as np\n",
    "import itertools as itt\n",
    "import statsmodels.api as sm\n",
    "import matplotlib.pyplot as plt\n",
    "from numpy import median\n",
    "from sklearn.metrics import f1_score\n",
    "from scipy import stats\n",
    "from scipy.stats import norm\n",
    "from sklearn import ensemble\n",
    "from sklearn import datasets\n",
    "from sklearn.utils import shuffle\n",
    "from sklearn.linear_model import LogisticRegression\n",
    "from sklearn.linear_model import LogisticRegressionCV\n",
    "from sklearn.model_selection import cross_val_score\n",
    "from sklearn.model_selection import cross_validate\n",
    "from sklearn.model_selection import GridSearchCV\n",
    "from sklearn.datasets import make_hastie_10_2"
   ]
  },
  {
   "cell_type": "code",
   "execution_count": 2,
   "metadata": {},
   "outputs": [],
   "source": [
    "from define_function import logitR\n",
    "from define_function import logit_pvalue\n",
    "from define_function import probhist \n",
    "from define_function import KS \n",
    "from define_function import auc \n",
    "from define_function import ROC \n",
    "from define_function import cp \n",
    "from define_function import plot_confusion_matrix"
   ]
  },
  {
   "cell_type": "markdown",
   "metadata": {},
   "source": [
    "<a id=\"sample2\"></a>\n",
    "# Sample 2 - w/ splines"
   ]
  },
  {
   "cell_type": "code",
   "execution_count": 4,
   "metadata": {
    "scrolled": false
   },
   "outputs": [
    {
     "name": "stderr",
     "output_type": "stream",
     "text": [
      "/Users/jingsixu/anaconda3/lib/python3.6/site-packages/IPython/core/interactiveshell.py:3063: DtypeWarning: Columns (0,25,28,39,40) have mixed types.Specify dtype option on import or set low_memory=False.\n",
      "  interactivity=interactivity, compiler=compiler, result=result)\n"
     ]
    }
   ],
   "source": [
    "sample2 = pd.read_csv('final_sample_uni_nooutlier2.csv')\n",
    "#Remove fico lower than 550\n",
    "sample2 = sample2[~(sample2['fico'] <= 550)]"
   ]
  },
  {
   "cell_type": "markdown",
   "metadata": {},
   "source": [
    "### spline terms"
   ]
  },
  {
   "cell_type": "markdown",
   "metadata": {},
   "source": [
    "#### finding spline terms"
   ]
  },
  {
   "cell_type": "code",
   "execution_count": 75,
   "metadata": {
    "scrolled": true
   },
   "outputs": [],
   "source": [
    "fico = sample2.groupby(['fico']).agg(total_count = ('d90_flag', 'count'),\n",
    "                                   default_rate = ('d90_flag', 'mean'))\n",
    "fico.reset_index(inplace=True)"
   ]
  },
  {
   "cell_type": "code",
   "execution_count": 187,
   "metadata": {},
   "outputs": [],
   "source": [
    "fico.to_csv('fico.csv')"
   ]
  },
  {
   "cell_type": "code",
   "execution_count": 82,
   "metadata": {},
   "outputs": [],
   "source": [
    "from patsy import dmatrix\n",
    "import statsmodels.api as sm\n",
    "import statsmodels.formula.api as smf"
   ]
  },
  {
   "cell_type": "code",
   "execution_count": 83,
   "metadata": {},
   "outputs": [],
   "source": [
    "data_x= fico.fico\n",
    "data_y= fico.default_rate\n",
    "# Dividing data into train and validation datasets\n",
    "from sklearn.model_selection import train_test_split\n",
    "train_x, valid_x, train_y, valid_y = train_test_split(data_x, data_y, test_size=0.33, random_state = 1)"
   ]
  },
  {
   "cell_type": "code",
   "execution_count": 104,
   "metadata": {},
   "outputs": [],
   "source": [
    "# Generating cubic spline with 3 knots\n",
    "transformed_x = dmatrix(\"bs(train, knots=(640,710), degree=2, include_intercept=False)\"\n",
    "                        , {\"train\": train_x},return_type='dataframe')\n",
    "# Fitting Generalised linear model on transformed dataset\n",
    "fit1 = sm.GLM(train_y, transformed_x).fit()\n",
    "xp = np.linspace(valid_x.min(),valid_x.max())\n",
    "pred1 = fit1.predict(dmatrix(\"bs(xp, knots=(640,710),degree =2, include_intercept=False)\"\n",
    "                             , {\"xp\": xp}, return_type='dataframe'))"
   ]
  },
  {
   "cell_type": "code",
   "execution_count": 123,
   "metadata": {},
   "outputs": [
    {
     "data": {
      "image/png": "[encoded data removed]",
      "text/plain": [
       "<Figure size 432x288 with 1 Axes>"
      ]
     },
     "metadata": {},
     "output_type": "display_data"
    }
   ],
   "source": [
    "plt.scatter(data_x, data_y, edgecolor = 'k', alpha=0.2)\n",
    "#plt.plot(xp, pred1, color='r', label='Specifying degree =2 with 2 knots')\n",
    "plt.title('fico against default rate')\n",
    "plt.xlabel('fico')\n",
    "plt.ylabel('default rate')\n",
    "plt.vlines(640,-0.025,0.35,colors='r',linestyles='dashdot')\n",
    "plt.vlines(710,-0.025,0.35,colors='r',linestyles='dashdot')\n",
    "plt.show()"
   ]
  },
  {
   "cell_type": "code",
   "execution_count": 121,
   "metadata": {},
   "outputs": [
    {
     "data": {
      "image/png": "[encoded data removed]",
      "text/plain": [
       "<Figure size 432x288 with 1 Axes>"
      ]
     },
     "metadata": {},
     "output_type": "display_data"
    }
   ],
   "source": [
    "plt.plot(dr['fico'], dr['total_count'])\n",
    "plt.title('fico against count number')\n",
    "plt.show()"
   ]
  },
  {
   "cell_type": "code",
   "execution_count": 195,
   "metadata": {},
   "outputs": [],
   "source": [
    "#Remove fico lower than 550\n",
    "sample2 = sample2[~(sample2['fico'] <= 550)]"
   ]
  },
  {
   "cell_type": "code",
   "execution_count": 191,
   "metadata": {},
   "outputs": [
    {
     "data": {
      "image/png": "[encoded data removed]",
      "text/plain": [
       "<Figure size 432x288 with 1 Axes>"
      ]
     },
     "metadata": {},
     "output_type": "display_data"
    }
   ],
   "source": [
    "\n",
    "plt.plot([550,640,710,836],[0.192045,0.15969,0.05899,0.00],color='orange',label='2 knots of fico')\n",
    "plt.legend()\n",
    "plt.ylim(-0.025,0.35)\n",
    "plt.vlines(640,-0.025,0.35,colors='r',linestyles='dashdot')\n",
    "plt.vlines(710,-0.025,0.35,colors='r',linestyles='dashdot')\n",
    "\n",
    "plt.show()"
   ]
  },
  {
   "cell_type": "code",
   "execution_count": 125,
   "metadata": {
    "scrolled": true
   },
   "outputs": [],
   "source": [
    "dti = sample2.groupby(['dti']).agg(total_count = ('d90_flag', 'count'),\n",
    "                                   default_rate = ('d90_flag', 'mean'))\n",
    "dti.reset_index(inplace=True)"
   ]
  },
  {
   "cell_type": "code",
   "execution_count": 177,
   "metadata": {},
   "outputs": [],
   "source": [
    "dti.to_csv('dti.csv')"
   ]
  },
  {
   "cell_type": "code",
   "execution_count": 181,
   "metadata": {
    "scrolled": true
   },
   "outputs": [
    {
     "data": {
      "image/png": "[encoded data removed]",
      "text/plain": [
       "<Figure size 432x288 with 1 Axes>"
      ]
     },
     "metadata": {},
     "output_type": "display_data"
    }
   ],
   "source": [
    "plt.scatter(dti.dti, dti.default_rate, edgecolor = 'k', alpha=0.2)\n",
    "#plt.plot(xp, pred1, color='r', label='Specifying degree =2 with 2 knots')\n",
    "plt.title('dti against default rate')\n",
    "plt.xlabel('dti')\n",
    "plt.ylabel('default rate')\n",
    "plt.ylim(0,0.20)\n",
    "plt.vlines(40,-0.025,0.20,colors='r',linestyles='dashdot')\n",
    "plt.show()"
   ]
  },
  {
   "cell_type": "code",
   "execution_count": 130,
   "metadata": {},
   "outputs": [
    {
     "data": {
      "image/png": "[encoded data removed]",
      "text/plain": [
       "<Figure size 432x288 with 1 Axes>"
      ]
     },
     "metadata": {},
     "output_type": "display_data"
    }
   ],
   "source": [
    "plt.plot(dti['dti'], dti['total_count'])\n",
    "plt.title('dti against count number')\n",
    "plt.show()"
   ]
  },
  {
   "cell_type": "code",
   "execution_count": 192,
   "metadata": {
    "scrolled": true
   },
   "outputs": [
    {
     "data": {
      "image/png": "[encoded data removed]",
      "text/plain": [
       "<Figure size 432x288 with 1 Axes>"
      ]
     },
     "metadata": {},
     "output_type": "display_data"
    }
   ],
   "source": [
    "#fitting learner regression in excel\n",
    "plt.plot([1,40,65],[0.02628,0.05966,0.12474],color='orange',label='1 knots of dti')\n",
    "plt.legend()\n",
    "plt.ylim(0,0.20)\n",
    "plt.vlines(40,0,0.20,colors='r',linestyles='dashdot')\n",
    "plt.show()"
   ]
  },
  {
   "cell_type": "code",
   "execution_count": 131,
   "metadata": {
    "scrolled": true
   },
   "outputs": [],
   "source": [
    "ocltv = sample2.groupby(['ocltv']).agg(total_count = ('d90_flag', 'count'),\n",
    "                                   default_rate = ('d90_flag', 'mean'))\n",
    "ocltv.reset_index(inplace=True)"
   ]
  },
  {
   "cell_type": "code",
   "execution_count": 184,
   "metadata": {},
   "outputs": [],
   "source": [
    "ocltv.to_csv('ocltv.csv')"
   ]
  },
  {
   "cell_type": "code",
   "execution_count": 176,
   "metadata": {
    "scrolled": true
   },
   "outputs": [
    {
     "data": {
      "image/png": "[encoded data removed]",
      "text/plain": [
       "<Figure size 432x288 with 1 Axes>"
      ]
     },
     "metadata": {},
     "output_type": "display_data"
    }
   ],
   "source": [
    "plt.scatter(ocltv.ocltv, ocltv.default_rate, edgecolor = 'k', alpha=0.2)\n",
    "#plt.plot(xp, pred1, color='r', label='Specifying degree =2 with 2 knots')\n",
    "\n",
    "\n",
    "plt.title('ocltv against default rate')\n",
    "plt.xlabel('ocltv')\n",
    "plt.ylabel('default rate')\n",
    "plt.ylim(-0.025,0.2)\n",
    "plt.vlines(75,-0.025,0.20,colors='r',linestyles='dashdot')\n",
    "plt.vlines(85,-0.025,0.20,colors='r',linestyles='dashdot')\n",
    "plt.vlines(95,-0.025,0.20,colors='r',linestyles='dashdot')\n",
    "plt.show()"
   ]
  },
  {
   "cell_type": "code",
   "execution_count": 136,
   "metadata": {},
   "outputs": [
    {
     "data": {
      "image/png": "[encoded data removed]",
      "text/plain": [
       "<Figure size 432x288 with 1 Axes>"
      ]
     },
     "metadata": {},
     "output_type": "display_data"
    }
   ],
   "source": [
    "plt.plot(ocltv['ocltv'], ocltv['total_count'])\n",
    "plt.title('ocltv against count number')\n",
    "plt.show()"
   ]
  },
  {
   "cell_type": "code",
   "execution_count": 186,
   "metadata": {},
   "outputs": [
    {
     "data": {
      "image/png": "[encoded data removed]",
      "text/plain": [
       "<Figure size 432x288 with 1 Axes>"
      ]
     },
     "metadata": {},
     "output_type": "display_data"
    }
   ],
   "source": [
    "\n",
    "plt.plot([6,75,85,95,100],[0.018296,0.04569,0.08294,0.07785,0.16767],color='orange',label='3 knots of ocltv')\n",
    "plt.legend()\n",
    "plt.ylim(-0.025,0.2)\n",
    "plt.vlines(75,-0.025,0.2,colors='r',linestyles='dashdot')\n",
    "plt.vlines(85,-0.025,0.2,colors='r',linestyles='dashdot')\n",
    "plt.vlines(95,-0.025,0.2,colors='r',linestyles='dashdot')\n",
    "plt.show()"
   ]
  },
  {
   "cell_type": "markdown",
   "metadata": {},
   "source": [
    "#### create spline terms"
   ]
  },
  {
   "cell_type": "code",
   "execution_count": 5,
   "metadata": {},
   "outputs": [],
   "source": [
    "# Create Splines\n",
    "sample2['fico_640'] = sample2['fico'].apply(lambda x: max(x-639,0))\n",
    "sample2['fico_710'] = sample2['fico'].apply(lambda x: max(x-709,0))\n",
    "\n",
    "sample2['dti_40'] = sample2['dti'].apply(lambda x: max(x-39,0))\n",
    "\n",
    "sample2['ocltv_75'] = sample2['ocltv'].apply(lambda x: max(x-74,0))\n",
    "sample2['ocltv_85'] = sample2['ocltv'].apply(lambda x: max(x-84,0))\n",
    "sample2['ocltv_95'] = sample2['ocltv'].apply(lambda x: max(x-94,0))\n",
    "\n",
    "#sample2['orig_rt_6'] = sample2['orig_rt'].apply(lambda x: max(x-5.99,0))\n",
    "#sample2['orig_rt_7'] = sample2['orig_rt'].apply(lambda x: max(x-6.99,0))"
   ]
  },
  {
   "cell_type": "code",
   "execution_count": 6,
   "metadata": {},
   "outputs": [],
   "source": [
    "#get dummies\n",
    "cat_vars=['channel','flag_fthb','loan_purpose', 'prop_type', 'occpy_sts']\n",
    "\n",
    "sample2=pd.get_dummies(sample2,\n",
    "                   prefix_sep='_',\n",
    "                   drop_first=False,\n",
    "                   columns=cat_vars)"
   ]
  },
  {
   "cell_type": "code",
   "execution_count": 7,
   "metadata": {},
   "outputs": [],
   "source": [
    "train2 = sample2[sample2['orig_year'] % 2 == 0]\n",
    "test2 = sample2[sample2['orig_year'] % 2 == 1]"
   ]
  },
  {
   "cell_type": "code",
   "execution_count": 8,
   "metadata": {},
   "outputs": [],
   "source": [
    "X_cols2 = ['fico',\n",
    "           'fico_640' , \n",
    "           'fico_710', \n",
    "           'dti',\n",
    "          'dti_40',\n",
    "           'ocltv',\n",
    "         'ocltv_75','ocltv_85', 'ocltv_95',\n",
    "         'rel_median_orig_upb',\n",
    "         'num_unit',\n",
    "         'cnt_borr',\n",
    "         'flag_fthb_Y', \n",
    "         'occpy_sts_I', 'occpy_sts_S',\n",
    "         'channel_B', 'channel_C',\n",
    "         'prop_type_CO', 'prop_type_PU',\n",
    "         'sato',\n",
    "         'loan_purpose_C'\n",
    "          ] \n"
   ]
  },
  {
   "cell_type": "code",
   "execution_count": 9,
   "metadata": {},
   "outputs": [],
   "source": [
    "X_train2 = train2[X_cols2]\n",
    "X_test2 = test2[X_cols2]"
   ]
  },
  {
   "cell_type": "code",
   "execution_count": 10,
   "metadata": {},
   "outputs": [],
   "source": [
    "y_train2 = train2['d90_flag']\n",
    "y_test2 = test2['d90_flag']"
   ]
  },
  {
   "cell_type": "markdown",
   "metadata": {},
   "source": [
    "<a id=\"tuning2\"></a>\n",
    "## Tuning parameter"
   ]
  },
  {
   "cell_type": "code",
   "execution_count": 71,
   "metadata": {
    "scrolled": true
   },
   "outputs": [
    {
     "name": "stderr",
     "output_type": "stream",
     "text": [
      "/Users/jingsixu/anaconda3/lib/python3.6/site-packages/sklearn/model_selection/_validation.py:536: FitFailedWarning: Estimator fit failed. The score on this train-test partition for these parameters will be set to nan. Details: \n",
      "ValueError: Solver lbfgs supports only 'l2' or 'none' penalties, got l1 penalty.\n",
      "\n",
      "  FitFailedWarning)\n",
      "/Users/jingsixu/anaconda3/lib/python3.6/site-packages/sklearn/model_selection/_validation.py:536: FitFailedWarning: Estimator fit failed. The score on this train-test partition for these parameters will be set to nan. Details: \n",
      "ValueError: Solver lbfgs supports only 'l2' or 'none' penalties, got l1 penalty.\n",
      "\n",
      "  FitFailedWarning)\n",
      "/Users/jingsixu/anaconda3/lib/python3.6/site-packages/sklearn/linear_model/_logistic.py:940: ConvergenceWarning: lbfgs failed to converge (status=1):\n",
      "STOP: TOTAL NO. of ITERATIONS REACHED LIMIT.\n",
      "\n",
      "Increase the number of iterations (max_iter) or scale the data as shown in:\n",
      "    https://scikit-learn.org/stable/modules/preprocessing.html\n",
      "Please also refer to the documentation for alternative solver options:\n",
      "    https://scikit-learn.org/stable/modules/linear_model.html#logistic-regression\n",
      "  extra_warning_msg=_LOGISTIC_SOLVER_CONVERGENCE_MSG)\n",
      "/Users/jingsixu/anaconda3/lib/python3.6/site-packages/sklearn/linear_model/_logistic.py:940: ConvergenceWarning: lbfgs failed to converge (status=1):\n",
      "STOP: TOTAL NO. of ITERATIONS REACHED LIMIT.\n",
      "\n",
      "Increase the number of iterations (max_iter) or scale the data as shown in:\n",
      "    https://scikit-learn.org/stable/modules/preprocessing.html\n",
      "Please also refer to the documentation for alternative solver options:\n",
      "    https://scikit-learn.org/stable/modules/linear_model.html#logistic-regression\n",
      "  extra_warning_msg=_LOGISTIC_SOLVER_CONVERGENCE_MSG)\n",
      "/Users/jingsixu/anaconda3/lib/python3.6/site-packages/sklearn/linear_model/_logistic.py:940: ConvergenceWarning: lbfgs failed to converge (status=1):\n",
      "STOP: TOTAL NO. of ITERATIONS REACHED LIMIT.\n",
      "\n",
      "Increase the number of iterations (max_iter) or scale the data as shown in:\n",
      "    https://scikit-learn.org/stable/modules/preprocessing.html\n",
      "Please also refer to the documentation for alternative solver options:\n",
      "    https://scikit-learn.org/stable/modules/linear_model.html#logistic-regression\n",
      "  extra_warning_msg=_LOGISTIC_SOLVER_CONVERGENCE_MSG)\n",
      "/Users/jingsixu/anaconda3/lib/python3.6/site-packages/sklearn/linear_model/_logistic.py:940: ConvergenceWarning: lbfgs failed to converge (status=1):\n",
      "STOP: TOTAL NO. of ITERATIONS REACHED LIMIT.\n",
      "\n",
      "Increase the number of iterations (max_iter) or scale the data as shown in:\n",
      "    https://scikit-learn.org/stable/modules/preprocessing.html\n",
      "Please also refer to the documentation for alternative solver options:\n",
      "    https://scikit-learn.org/stable/modules/linear_model.html#logistic-regression\n",
      "  extra_warning_msg=_LOGISTIC_SOLVER_CONVERGENCE_MSG)\n",
      "/Users/jingsixu/anaconda3/lib/python3.6/site-packages/sklearn/model_selection/_validation.py:536: FitFailedWarning: Estimator fit failed. The score on this train-test partition for these parameters will be set to nan. Details: \n",
      "ValueError: Solver lbfgs supports only 'l2' or 'none' penalties, got l1 penalty.\n",
      "\n",
      "  FitFailedWarning)\n",
      "/Users/jingsixu/anaconda3/lib/python3.6/site-packages/sklearn/linear_model/_logistic.py:940: ConvergenceWarning: lbfgs failed to converge (status=1):\n",
      "STOP: TOTAL NO. of ITERATIONS REACHED LIMIT.\n",
      "\n",
      "Increase the number of iterations (max_iter) or scale the data as shown in:\n",
      "    https://scikit-learn.org/stable/modules/preprocessing.html\n",
      "Please also refer to the documentation for alternative solver options:\n",
      "    https://scikit-learn.org/stable/modules/linear_model.html#logistic-regression\n",
      "  extra_warning_msg=_LOGISTIC_SOLVER_CONVERGENCE_MSG)\n",
      "/Users/jingsixu/anaconda3/lib/python3.6/site-packages/sklearn/linear_model/_logistic.py:940: ConvergenceWarning: lbfgs failed to converge (status=1):\n",
      "STOP: TOTAL NO. of ITERATIONS REACHED LIMIT.\n",
      "\n",
      "Increase the number of iterations (max_iter) or scale the data as shown in:\n",
      "    https://scikit-learn.org/stable/modules/preprocessing.html\n",
      "Please also refer to the documentation for alternative solver options:\n",
      "    https://scikit-learn.org/stable/modules/linear_model.html#logistic-regression\n",
      "  extra_warning_msg=_LOGISTIC_SOLVER_CONVERGENCE_MSG)\n",
      "/Users/jingsixu/anaconda3/lib/python3.6/site-packages/sklearn/model_selection/_validation.py:536: FitFailedWarning: Estimator fit failed. The score on this train-test partition for these parameters will be set to nan. Details: \n",
      "ValueError: Solver lbfgs supports only 'l2' or 'none' penalties, got l1 penalty.\n",
      "\n",
      "  FitFailedWarning)\n",
      "/Users/jingsixu/anaconda3/lib/python3.6/site-packages/sklearn/linear_model/_logistic.py:940: ConvergenceWarning: lbfgs failed to converge (status=1):\n",
      "STOP: TOTAL NO. of ITERATIONS REACHED LIMIT.\n",
      "\n",
      "Increase the number of iterations (max_iter) or scale the data as shown in:\n",
      "    https://scikit-learn.org/stable/modules/preprocessing.html\n",
      "Please also refer to the documentation for alternative solver options:\n",
      "    https://scikit-learn.org/stable/modules/linear_model.html#logistic-regression\n",
      "  extra_warning_msg=_LOGISTIC_SOLVER_CONVERGENCE_MSG)\n",
      "/Users/jingsixu/anaconda3/lib/python3.6/site-packages/sklearn/linear_model/_logistic.py:940: ConvergenceWarning: lbfgs failed to converge (status=1):\n",
      "STOP: TOTAL NO. of ITERATIONS REACHED LIMIT.\n",
      "\n",
      "Increase the number of iterations (max_iter) or scale the data as shown in:\n",
      "    https://scikit-learn.org/stable/modules/preprocessing.html\n",
      "Please also refer to the documentation for alternative solver options:\n",
      "    https://scikit-learn.org/stable/modules/linear_model.html#logistic-regression\n",
      "  extra_warning_msg=_LOGISTIC_SOLVER_CONVERGENCE_MSG)\n",
      "/Users/jingsixu/anaconda3/lib/python3.6/site-packages/sklearn/model_selection/_validation.py:536: FitFailedWarning: Estimator fit failed. The score on this train-test partition for these parameters will be set to nan. Details: \n",
      "ValueError: Solver lbfgs supports only 'l2' or 'none' penalties, got l1 penalty.\n",
      "\n",
      "  FitFailedWarning)\n",
      "/Users/jingsixu/anaconda3/lib/python3.6/site-packages/sklearn/linear_model/_logistic.py:940: ConvergenceWarning: lbfgs failed to converge (status=1):\n",
      "STOP: TOTAL NO. of ITERATIONS REACHED LIMIT.\n",
      "\n",
      "Increase the number of iterations (max_iter) or scale the data as shown in:\n",
      "    https://scikit-learn.org/stable/modules/preprocessing.html\n",
      "Please also refer to the documentation for alternative solver options:\n",
      "    https://scikit-learn.org/stable/modules/linear_model.html#logistic-regression\n",
      "  extra_warning_msg=_LOGISTIC_SOLVER_CONVERGENCE_MSG)\n",
      "/Users/jingsixu/anaconda3/lib/python3.6/site-packages/sklearn/linear_model/_logistic.py:940: ConvergenceWarning: lbfgs failed to converge (status=1):\n",
      "STOP: TOTAL NO. of ITERATIONS REACHED LIMIT.\n",
      "\n",
      "Increase the number of iterations (max_iter) or scale the data as shown in:\n",
      "    https://scikit-learn.org/stable/modules/preprocessing.html\n",
      "Please also refer to the documentation for alternative solver options:\n",
      "    https://scikit-learn.org/stable/modules/linear_model.html#logistic-regression\n",
      "  extra_warning_msg=_LOGISTIC_SOLVER_CONVERGENCE_MSG)\n",
      "/Users/jingsixu/anaconda3/lib/python3.6/site-packages/sklearn/linear_model/_logistic.py:940: ConvergenceWarning: lbfgs failed to converge (status=1):\n",
      "STOP: TOTAL NO. of ITERATIONS REACHED LIMIT.\n",
      "\n",
      "Increase the number of iterations (max_iter) or scale the data as shown in:\n",
      "    https://scikit-learn.org/stable/modules/preprocessing.html\n",
      "Please also refer to the documentation for alternative solver options:\n",
      "    https://scikit-learn.org/stable/modules/linear_model.html#logistic-regression\n",
      "  extra_warning_msg=_LOGISTIC_SOLVER_CONVERGENCE_MSG)\n",
      "/Users/jingsixu/anaconda3/lib/python3.6/site-packages/sklearn/model_selection/_validation.py:536: FitFailedWarning: Estimator fit failed. The score on this train-test partition for these parameters will be set to nan. Details: \n",
      "ValueError: Solver lbfgs supports only 'l2' or 'none' penalties, got l1 penalty.\n",
      "\n",
      "  FitFailedWarning)\n",
      "/Users/jingsixu/anaconda3/lib/python3.6/site-packages/sklearn/linear_model/_logistic.py:940: ConvergenceWarning: lbfgs failed to converge (status=1):\n",
      "STOP: TOTAL NO. of ITERATIONS REACHED LIMIT.\n",
      "\n",
      "Increase the number of iterations (max_iter) or scale the data as shown in:\n",
      "    https://scikit-learn.org/stable/modules/preprocessing.html\n",
      "Please also refer to the documentation for alternative solver options:\n",
      "    https://scikit-learn.org/stable/modules/linear_model.html#logistic-regression\n",
      "  extra_warning_msg=_LOGISTIC_SOLVER_CONVERGENCE_MSG)\n"
     ]
    },
    {
     "name": "stderr",
     "output_type": "stream",
     "text": [
      "/Users/jingsixu/anaconda3/lib/python3.6/site-packages/sklearn/linear_model/_logistic.py:940: ConvergenceWarning: lbfgs failed to converge (status=1):\n",
      "STOP: TOTAL NO. of ITERATIONS REACHED LIMIT.\n",
      "\n",
      "Increase the number of iterations (max_iter) or scale the data as shown in:\n",
      "    https://scikit-learn.org/stable/modules/preprocessing.html\n",
      "Please also refer to the documentation for alternative solver options:\n",
      "    https://scikit-learn.org/stable/modules/linear_model.html#logistic-regression\n",
      "  extra_warning_msg=_LOGISTIC_SOLVER_CONVERGENCE_MSG)\n",
      "/Users/jingsixu/anaconda3/lib/python3.6/site-packages/sklearn/linear_model/_logistic.py:940: ConvergenceWarning: lbfgs failed to converge (status=1):\n",
      "STOP: TOTAL NO. of ITERATIONS REACHED LIMIT.\n",
      "\n",
      "Increase the number of iterations (max_iter) or scale the data as shown in:\n",
      "    https://scikit-learn.org/stable/modules/preprocessing.html\n",
      "Please also refer to the documentation for alternative solver options:\n",
      "    https://scikit-learn.org/stable/modules/linear_model.html#logistic-regression\n",
      "  extra_warning_msg=_LOGISTIC_SOLVER_CONVERGENCE_MSG)\n",
      "/Users/jingsixu/anaconda3/lib/python3.6/site-packages/sklearn/linear_model/_logistic.py:940: ConvergenceWarning: lbfgs failed to converge (status=1):\n",
      "STOP: TOTAL NO. of ITERATIONS REACHED LIMIT.\n",
      "\n",
      "Increase the number of iterations (max_iter) or scale the data as shown in:\n",
      "    https://scikit-learn.org/stable/modules/preprocessing.html\n",
      "Please also refer to the documentation for alternative solver options:\n",
      "    https://scikit-learn.org/stable/modules/linear_model.html#logistic-regression\n",
      "  extra_warning_msg=_LOGISTIC_SOLVER_CONVERGENCE_MSG)\n",
      "/Users/jingsixu/anaconda3/lib/python3.6/site-packages/sklearn/model_selection/_validation.py:536: FitFailedWarning: Estimator fit failed. The score on this train-test partition for these parameters will be set to nan. Details: \n",
      "ValueError: Solver lbfgs supports only 'l2' or 'none' penalties, got l1 penalty.\n",
      "\n",
      "  FitFailedWarning)\n",
      "/Users/jingsixu/anaconda3/lib/python3.6/site-packages/sklearn/linear_model/_logistic.py:940: ConvergenceWarning: lbfgs failed to converge (status=1):\n",
      "STOP: TOTAL NO. of ITERATIONS REACHED LIMIT.\n",
      "\n",
      "Increase the number of iterations (max_iter) or scale the data as shown in:\n",
      "    https://scikit-learn.org/stable/modules/preprocessing.html\n",
      "Please also refer to the documentation for alternative solver options:\n",
      "    https://scikit-learn.org/stable/modules/linear_model.html#logistic-regression\n",
      "  extra_warning_msg=_LOGISTIC_SOLVER_CONVERGENCE_MSG)\n",
      "/Users/jingsixu/anaconda3/lib/python3.6/site-packages/sklearn/linear_model/_logistic.py:940: ConvergenceWarning: lbfgs failed to converge (status=1):\n",
      "STOP: TOTAL NO. of ITERATIONS REACHED LIMIT.\n",
      "\n",
      "Increase the number of iterations (max_iter) or scale the data as shown in:\n",
      "    https://scikit-learn.org/stable/modules/preprocessing.html\n",
      "Please also refer to the documentation for alternative solver options:\n",
      "    https://scikit-learn.org/stable/modules/linear_model.html#logistic-regression\n",
      "  extra_warning_msg=_LOGISTIC_SOLVER_CONVERGENCE_MSG)\n",
      "/Users/jingsixu/anaconda3/lib/python3.6/site-packages/sklearn/model_selection/_validation.py:536: FitFailedWarning: Estimator fit failed. The score on this train-test partition for these parameters will be set to nan. Details: \n",
      "ValueError: Solver lbfgs supports only 'l2' or 'none' penalties, got l1 penalty.\n",
      "\n",
      "  FitFailedWarning)\n",
      "/Users/jingsixu/anaconda3/lib/python3.6/site-packages/sklearn/linear_model/_logistic.py:940: ConvergenceWarning: lbfgs failed to converge (status=1):\n",
      "STOP: TOTAL NO. of ITERATIONS REACHED LIMIT.\n",
      "\n",
      "Increase the number of iterations (max_iter) or scale the data as shown in:\n",
      "    https://scikit-learn.org/stable/modules/preprocessing.html\n",
      "Please also refer to the documentation for alternative solver options:\n",
      "    https://scikit-learn.org/stable/modules/linear_model.html#logistic-regression\n",
      "  extra_warning_msg=_LOGISTIC_SOLVER_CONVERGENCE_MSG)\n",
      "/Users/jingsixu/anaconda3/lib/python3.6/site-packages/sklearn/linear_model/_logistic.py:940: ConvergenceWarning: lbfgs failed to converge (status=1):\n",
      "STOP: TOTAL NO. of ITERATIONS REACHED LIMIT.\n",
      "\n",
      "Increase the number of iterations (max_iter) or scale the data as shown in:\n",
      "    https://scikit-learn.org/stable/modules/preprocessing.html\n",
      "Please also refer to the documentation for alternative solver options:\n",
      "    https://scikit-learn.org/stable/modules/linear_model.html#logistic-regression\n",
      "  extra_warning_msg=_LOGISTIC_SOLVER_CONVERGENCE_MSG)\n",
      "/Users/jingsixu/anaconda3/lib/python3.6/site-packages/sklearn/model_selection/_validation.py:536: FitFailedWarning: Estimator fit failed. The score on this train-test partition for these parameters will be set to nan. Details: \n",
      "ValueError: Solver lbfgs supports only 'l2' or 'none' penalties, got l1 penalty.\n",
      "\n",
      "  FitFailedWarning)\n",
      "/Users/jingsixu/anaconda3/lib/python3.6/site-packages/sklearn/linear_model/_logistic.py:940: ConvergenceWarning: lbfgs failed to converge (status=1):\n",
      "STOP: TOTAL NO. of ITERATIONS REACHED LIMIT.\n",
      "\n",
      "Increase the number of iterations (max_iter) or scale the data as shown in:\n",
      "    https://scikit-learn.org/stable/modules/preprocessing.html\n",
      "Please also refer to the documentation for alternative solver options:\n",
      "    https://scikit-learn.org/stable/modules/linear_model.html#logistic-regression\n",
      "  extra_warning_msg=_LOGISTIC_SOLVER_CONVERGENCE_MSG)\n",
      "/Users/jingsixu/anaconda3/lib/python3.6/site-packages/sklearn/linear_model/_logistic.py:940: ConvergenceWarning: lbfgs failed to converge (status=1):\n",
      "STOP: TOTAL NO. of ITERATIONS REACHED LIMIT.\n",
      "\n",
      "Increase the number of iterations (max_iter) or scale the data as shown in:\n",
      "    https://scikit-learn.org/stable/modules/preprocessing.html\n",
      "Please also refer to the documentation for alternative solver options:\n",
      "    https://scikit-learn.org/stable/modules/linear_model.html#logistic-regression\n",
      "  extra_warning_msg=_LOGISTIC_SOLVER_CONVERGENCE_MSG)\n",
      "/Users/jingsixu/anaconda3/lib/python3.6/site-packages/sklearn/linear_model/_logistic.py:940: ConvergenceWarning: lbfgs failed to converge (status=1):\n",
      "STOP: TOTAL NO. of ITERATIONS REACHED LIMIT.\n",
      "\n",
      "Increase the number of iterations (max_iter) or scale the data as shown in:\n",
      "    https://scikit-learn.org/stable/modules/preprocessing.html\n",
      "Please also refer to the documentation for alternative solver options:\n",
      "    https://scikit-learn.org/stable/modules/linear_model.html#logistic-regression\n",
      "  extra_warning_msg=_LOGISTIC_SOLVER_CONVERGENCE_MSG)\n",
      "/Users/jingsixu/anaconda3/lib/python3.6/site-packages/sklearn/linear_model/_logistic.py:940: ConvergenceWarning: lbfgs failed to converge (status=1):\n",
      "STOP: TOTAL NO. of ITERATIONS REACHED LIMIT.\n",
      "\n",
      "Increase the number of iterations (max_iter) or scale the data as shown in:\n",
      "    https://scikit-learn.org/stable/modules/preprocessing.html\n",
      "Please also refer to the documentation for alternative solver options:\n",
      "    https://scikit-learn.org/stable/modules/linear_model.html#logistic-regression\n",
      "  extra_warning_msg=_LOGISTIC_SOLVER_CONVERGENCE_MSG)\n",
      "/Users/jingsixu/anaconda3/lib/python3.6/site-packages/sklearn/model_selection/_validation.py:536: FitFailedWarning: Estimator fit failed. The score on this train-test partition for these parameters will be set to nan. Details: \n",
      "ValueError: Solver lbfgs supports only 'l2' or 'none' penalties, got l1 penalty.\n",
      "\n",
      "  FitFailedWarning)\n",
      "/Users/jingsixu/anaconda3/lib/python3.6/site-packages/sklearn/linear_model/_logistic.py:940: ConvergenceWarning: lbfgs failed to converge (status=1):\n",
      "STOP: TOTAL NO. of ITERATIONS REACHED LIMIT.\n",
      "\n",
      "Increase the number of iterations (max_iter) or scale the data as shown in:\n",
      "    https://scikit-learn.org/stable/modules/preprocessing.html\n",
      "Please also refer to the documentation for alternative solver options:\n",
      "    https://scikit-learn.org/stable/modules/linear_model.html#logistic-regression\n",
      "  extra_warning_msg=_LOGISTIC_SOLVER_CONVERGENCE_MSG)\n",
      "/Users/jingsixu/anaconda3/lib/python3.6/site-packages/sklearn/linear_model/_logistic.py:940: ConvergenceWarning: lbfgs failed to converge (status=1):\n",
      "STOP: TOTAL NO. of ITERATIONS REACHED LIMIT.\n",
      "\n",
      "Increase the number of iterations (max_iter) or scale the data as shown in:\n",
      "    https://scikit-learn.org/stable/modules/preprocessing.html\n",
      "Please also refer to the documentation for alternative solver options:\n",
      "    https://scikit-learn.org/stable/modules/linear_model.html#logistic-regression\n",
      "  extra_warning_msg=_LOGISTIC_SOLVER_CONVERGENCE_MSG)\n"
     ]
    },
    {
     "name": "stderr",
     "output_type": "stream",
     "text": [
      "/Users/jingsixu/anaconda3/lib/python3.6/site-packages/sklearn/linear_model/_logistic.py:940: ConvergenceWarning: lbfgs failed to converge (status=1):\n",
      "STOP: TOTAL NO. of ITERATIONS REACHED LIMIT.\n",
      "\n",
      "Increase the number of iterations (max_iter) or scale the data as shown in:\n",
      "    https://scikit-learn.org/stable/modules/preprocessing.html\n",
      "Please also refer to the documentation for alternative solver options:\n",
      "    https://scikit-learn.org/stable/modules/linear_model.html#logistic-regression\n",
      "  extra_warning_msg=_LOGISTIC_SOLVER_CONVERGENCE_MSG)\n",
      "/Users/jingsixu/anaconda3/lib/python3.6/site-packages/sklearn/linear_model/_logistic.py:940: ConvergenceWarning: lbfgs failed to converge (status=1):\n",
      "STOP: TOTAL NO. of ITERATIONS REACHED LIMIT.\n",
      "\n",
      "Increase the number of iterations (max_iter) or scale the data as shown in:\n",
      "    https://scikit-learn.org/stable/modules/preprocessing.html\n",
      "Please also refer to the documentation for alternative solver options:\n",
      "    https://scikit-learn.org/stable/modules/linear_model.html#logistic-regression\n",
      "  extra_warning_msg=_LOGISTIC_SOLVER_CONVERGENCE_MSG)\n"
     ]
    },
    {
     "name": "stdout",
     "output_type": "stream",
     "text": [
      "Best parameters set found on development set:\n",
      "\n",
      "{'C': 0.01, 'class_weight': None, 'penalty': 'l2', 'solver': 'liblinear'}\n",
      "\n",
      "Grid scores on development set:\n",
      "\n",
      "nan (+/-nan) for {'C': 0.001, 'class_weight': None, 'penalty': 'l1', 'solver': 'lbfgs'}\n",
      "0.740 (+/-0.091) for {'C': 0.001, 'class_weight': None, 'penalty': 'l1', 'solver': 'liblinear'}\n",
      "0.766 (+/-0.080) for {'C': 0.001, 'class_weight': None, 'penalty': 'l2', 'solver': 'lbfgs'}\n",
      "0.766 (+/-0.080) for {'C': 0.001, 'class_weight': None, 'penalty': 'l2', 'solver': 'liblinear'}\n",
      "nan (+/-nan) for {'C': 0.001, 'class_weight': {1: 3025, 0: 2500}, 'penalty': 'l1', 'solver': 'lbfgs'}\n",
      "0.757 (+/-0.056) for {'C': 0.001, 'class_weight': {1: 3025, 0: 2500}, 'penalty': 'l1', 'solver': 'liblinear'}\n",
      "0.758 (+/-0.056) for {'C': 0.001, 'class_weight': {1: 3025, 0: 2500}, 'penalty': 'l2', 'solver': 'lbfgs'}\n",
      "0.757 (+/-0.057) for {'C': 0.001, 'class_weight': {1: 3025, 0: 2500}, 'penalty': 'l2', 'solver': 'liblinear'}\n",
      "nan (+/-nan) for {'C': 0.01, 'class_weight': None, 'penalty': 'l1', 'solver': 'lbfgs'}\n",
      "0.761 (+/-0.048) for {'C': 0.01, 'class_weight': None, 'penalty': 'l1', 'solver': 'liblinear'}\n",
      "0.767 (+/-0.057) for {'C': 0.01, 'class_weight': None, 'penalty': 'l2', 'solver': 'lbfgs'}\n",
      "0.767 (+/-0.058) for {'C': 0.01, 'class_weight': None, 'penalty': 'l2', 'solver': 'liblinear'}\n",
      "nan (+/-nan) for {'C': 0.01, 'class_weight': {1: 3025, 0: 2500}, 'penalty': 'l1', 'solver': 'lbfgs'}\n",
      "0.757 (+/-0.056) for {'C': 0.01, 'class_weight': {1: 3025, 0: 2500}, 'penalty': 'l1', 'solver': 'liblinear'}\n",
      "0.758 (+/-0.056) for {'C': 0.01, 'class_weight': {1: 3025, 0: 2500}, 'penalty': 'l2', 'solver': 'lbfgs'}\n",
      "0.757 (+/-0.057) for {'C': 0.01, 'class_weight': {1: 3025, 0: 2500}, 'penalty': 'l2', 'solver': 'liblinear'}\n",
      "nan (+/-nan) for {'C': 0.1, 'class_weight': None, 'penalty': 'l1', 'solver': 'lbfgs'}\n",
      "0.757 (+/-0.056) for {'C': 0.1, 'class_weight': None, 'penalty': 'l1', 'solver': 'liblinear'}\n",
      "0.761 (+/-0.051) for {'C': 0.1, 'class_weight': None, 'penalty': 'l2', 'solver': 'lbfgs'}\n",
      "0.759 (+/-0.055) for {'C': 0.1, 'class_weight': None, 'penalty': 'l2', 'solver': 'liblinear'}\n",
      "nan (+/-nan) for {'C': 0.1, 'class_weight': {1: 3025, 0: 2500}, 'penalty': 'l1', 'solver': 'lbfgs'}\n",
      "0.757 (+/-0.056) for {'C': 0.1, 'class_weight': {1: 3025, 0: 2500}, 'penalty': 'l1', 'solver': 'liblinear'}\n",
      "0.758 (+/-0.057) for {'C': 0.1, 'class_weight': {1: 3025, 0: 2500}, 'penalty': 'l2', 'solver': 'lbfgs'}\n",
      "0.758 (+/-0.057) for {'C': 0.1, 'class_weight': {1: 3025, 0: 2500}, 'penalty': 'l2', 'solver': 'liblinear'}\n",
      "nan (+/-nan) for {'C': 1, 'class_weight': None, 'penalty': 'l1', 'solver': 'lbfgs'}\n",
      "0.757 (+/-0.057) for {'C': 1, 'class_weight': None, 'penalty': 'l1', 'solver': 'liblinear'}\n",
      "0.758 (+/-0.056) for {'C': 1, 'class_weight': None, 'penalty': 'l2', 'solver': 'lbfgs'}\n",
      "0.757 (+/-0.057) for {'C': 1, 'class_weight': None, 'penalty': 'l2', 'solver': 'liblinear'}\n",
      "nan (+/-nan) for {'C': 1, 'class_weight': {1: 3025, 0: 2500}, 'penalty': 'l1', 'solver': 'lbfgs'}\n",
      "0.757 (+/-0.056) for {'C': 1, 'class_weight': {1: 3025, 0: 2500}, 'penalty': 'l1', 'solver': 'liblinear'}\n",
      "0.760 (+/-0.054) for {'C': 1, 'class_weight': {1: 3025, 0: 2500}, 'penalty': 'l2', 'solver': 'lbfgs'}\n",
      "0.757 (+/-0.056) for {'C': 1, 'class_weight': {1: 3025, 0: 2500}, 'penalty': 'l2', 'solver': 'liblinear'}\n",
      "nan (+/-nan) for {'C': 10, 'class_weight': None, 'penalty': 'l1', 'solver': 'lbfgs'}\n",
      "0.757 (+/-0.056) for {'C': 10, 'class_weight': None, 'penalty': 'l1', 'solver': 'liblinear'}\n",
      "0.758 (+/-0.055) for {'C': 10, 'class_weight': None, 'penalty': 'l2', 'solver': 'lbfgs'}\n",
      "0.758 (+/-0.058) for {'C': 10, 'class_weight': None, 'penalty': 'l2', 'solver': 'liblinear'}\n",
      "nan (+/-nan) for {'C': 10, 'class_weight': {1: 3025, 0: 2500}, 'penalty': 'l1', 'solver': 'lbfgs'}\n",
      "0.757 (+/-0.056) for {'C': 10, 'class_weight': {1: 3025, 0: 2500}, 'penalty': 'l1', 'solver': 'liblinear'}\n",
      "0.758 (+/-0.053) for {'C': 10, 'class_weight': {1: 3025, 0: 2500}, 'penalty': 'l2', 'solver': 'lbfgs'}\n",
      "0.757 (+/-0.057) for {'C': 10, 'class_weight': {1: 3025, 0: 2500}, 'penalty': 'l2', 'solver': 'liblinear'}\n"
     ]
    }
   ],
   "source": [
    "from sklearn.model_selection import GridSearchCV\n",
    "scores = {'AUC': 'roc_auc'}\n",
    "\n",
    "parameters = {\"penalty\": (\"l1\", \"l2\"),\n",
    "    \"C\": (0.001, 0.01, 0.1, 1, 10)\n",
    "   # \"class_weight\":(None, {1:3025, 0:2500})\n",
    "}\n",
    "    \n",
    "lr = GridSearchCV(LogisticRegression(random_state=42, max_iter=1000,tol=1e-5,solver= \"liblinear\"), \n",
    "                  parameters, scoring = scores,refit='AUC', return_train_score=True)\n",
    "lr.fit(X_train2, y_train2)\n",
    "\n",
    "print(\"Best parameters set found on development set:\")\n",
    "print()\n",
    "print(lr.best_params_)\n",
    "print()\n",
    "print(\"Grid scores on development set:\")\n",
    "print()\n",
    "means = lr.cv_results_['mean_test_AUC']\n",
    "stds = lr.cv_results_['std_test_AUC']\n",
    "for mean, std, params in zip(means, stds, lr.cv_results_['params']):\n",
    "    print(\"%0.3f (+/-%0.03f) for %r\"\n",
    "            % (mean, std * 2, params))"
   ]
  },
  {
   "cell_type": "markdown",
   "metadata": {},
   "source": [
    "<a id=\"cv2\"></a>\n",
    "###  Cross-Validation"
   ]
  },
  {
   "cell_type": "code",
   "execution_count": 157,
   "metadata": {},
   "outputs": [],
   "source": [
    "from sklearn.linear_model import LogisticRegressionCV\n",
    "penalty = ['l1','l2','elasticnet','none'] \n",
    "C = [0.001, 0.05, 0.01, 0.1, 1, 10, 100]\n",
    "solver = 'liblinear' "
   ]
  },
  {
   "cell_type": "code",
   "execution_count": 158,
   "metadata": {},
   "outputs": [],
   "source": [
    "tuned_parameters = [{'solver': ['liblinear'], 'penalty': ['l2'], \n",
    "                     'C': [0.001, 0.05, 0.01, 0.1, 1, 10, 100]}]\n",
    "scores = {'AUC': 'roc_auc'}  # can use make_scorer() to make score on KS and dollar loss"
   ]
  },
  {
   "cell_type": "code",
   "execution_count": 159,
   "metadata": {},
   "outputs": [
    {
     "name": "stdout",
     "output_type": "stream",
     "text": [
      "# Tuning hyper-parameters\n",
      "\n",
      "Best parameters set found on development set:\n",
      "\n",
      "[0.01]\n",
      "\n",
      "Grid scores on development set:\n",
      "\n",
      "Detailed classification report:\n",
      "\n",
      "The model is trained on the full development set.\n",
      "The scores are computed on the full validation set.\n",
      "\n",
      "              precision    recall  f1-score   support\n",
      "\n",
      "           0       0.94      1.00      0.97    120974\n",
      "           1       0.42      0.00      0.00      7442\n",
      "\n",
      "    accuracy                           0.94    128416\n",
      "   macro avg       0.68      0.50      0.49    128416\n",
      "weighted avg       0.91      0.94      0.91    128416\n",
      "\n",
      "recall=0.00107\n",
      "preciaion=0.42105\n",
      "\n"
     ]
    }
   ],
   "source": [
    "C = [0.05, 0.01, 0.1, 1]\n",
    "print(\"# Tuning hyper-parameters\")\n",
    "print()\n",
    " \n",
    "\n",
    "logit = LogisticRegressionCV(cv=5, random_state=0, penalty='l2', C=C, solver='liblinear' , scoring = 'roc_auc', refit='roc_auc').fit(X_train2, y_train2)\n",
    "\n",
    "\n",
    "print(\"Best parameters set found on development set:\")\n",
    "print()\n",
    "print(logit.C_)\n",
    "print()\n",
    "print(\"Grid scores on development set:\")\n",
    "print()\n",
    "#means = logit.scores_['mean_test_AUC']\n",
    "#stds = logit.scores_['std_test_AUC']\n",
    "#for mean, std, params in zip(means, stds, logit.scores_['params']):\n",
    "#    print(\"%0.3f (+/-%0.03f) for %r\"\n",
    "#         % (mean, std * 2, params))\n",
    "#print()\n",
    "\n",
    "print(\"Detailed classification report:\")\n",
    "print()\n",
    "print(\"The model is trained on the full development set.\")\n",
    "print(\"The scores are computed on the full validation set.\")\n",
    "print()\n",
    "y_true, y_pred = y_test2, logit.predict(X_test2)\n",
    "print(classification_report(y_true, y_pred))\n",
    "print('recall=%0.5f' % recall_score(y_true, y_pred))\n",
    "print('preciaion=%0.5f' % precision_score(y_true, y_pred))\n",
    "print()"
   ]
  },
  {
   "cell_type": "markdown",
   "metadata": {},
   "source": [
    "<a id=\"sklearn2\"></a>\n",
    "## sklearn"
   ]
  },
  {
   "cell_type": "code",
   "execution_count": 11,
   "metadata": {},
   "outputs": [],
   "source": [
    "penalty = 'l2' \n",
    "C = 0.01\n",
    "solver = 'liblinear'\n",
    "#class_weight = None\n",
    "logmodel2,coef_sk2 = logitR(penalty,C,solver,X_train2, y_train2, X_cols2)"
   ]
  },
  {
   "cell_type": "markdown",
   "metadata": {},
   "source": [
    "adjust class weight by dollar loss"
   ]
  },
  {
   "cell_type": "markdown",
   "metadata": {},
   "source": [
    "### Coef"
   ]
  },
  {
   "cell_type": "code",
   "execution_count": 12,
   "metadata": {},
   "outputs": [
    {
     "data": {
      "text/html": [
       "<div>\n",
       "<style scoped>\n",
       "    .dataframe tbody tr th:only-of-type {\n",
       "        vertical-align: middle;\n",
       "    }\n",
       "\n",
       "    .dataframe tbody tr th {\n",
       "        vertical-align: top;\n",
       "    }\n",
       "\n",
       "    .dataframe thead th {\n",
       "        text-align: right;\n",
       "    }\n",
       "</style>\n",
       "<table border=\"1\" class=\"dataframe\">\n",
       "  <thead>\n",
       "    <tr style=\"text-align: right;\">\n",
       "      <th></th>\n",
       "      <th>feature</th>\n",
       "      <th>coeffienct</th>\n",
       "      <th>P_value</th>\n",
       "    </tr>\n",
       "  </thead>\n",
       "  <tbody>\n",
       "    <tr>\n",
       "      <th>0</th>\n",
       "      <td>Intercept</td>\n",
       "      <td>0.004315</td>\n",
       "      <td>0.995691</td>\n",
       "    </tr>\n",
       "    <tr>\n",
       "      <th>1</th>\n",
       "      <td>fico</td>\n",
       "      <td>-0.006511</td>\n",
       "      <td>0.000000</td>\n",
       "    </tr>\n",
       "    <tr>\n",
       "      <th>2</th>\n",
       "      <td>fico_640</td>\n",
       "      <td>-0.004299</td>\n",
       "      <td>0.010475</td>\n",
       "    </tr>\n",
       "    <tr>\n",
       "      <th>3</th>\n",
       "      <td>fico_710</td>\n",
       "      <td>-0.003858</td>\n",
       "      <td>0.000864</td>\n",
       "    </tr>\n",
       "    <tr>\n",
       "      <th>4</th>\n",
       "      <td>dti</td>\n",
       "      <td>0.014834</td>\n",
       "      <td>0.000000</td>\n",
       "    </tr>\n",
       "    <tr>\n",
       "      <th>5</th>\n",
       "      <td>dti_40</td>\n",
       "      <td>0.015107</td>\n",
       "      <td>0.000118</td>\n",
       "    </tr>\n",
       "    <tr>\n",
       "      <th>6</th>\n",
       "      <td>ocltv</td>\n",
       "      <td>0.025594</td>\n",
       "      <td>0.000000</td>\n",
       "    </tr>\n",
       "    <tr>\n",
       "      <th>7</th>\n",
       "      <td>ocltv_75</td>\n",
       "      <td>0.020016</td>\n",
       "      <td>0.006364</td>\n",
       "    </tr>\n",
       "    <tr>\n",
       "      <th>8</th>\n",
       "      <td>ocltv_85</td>\n",
       "      <td>-0.050531</td>\n",
       "      <td>0.000002</td>\n",
       "    </tr>\n",
       "    <tr>\n",
       "      <th>9</th>\n",
       "      <td>ocltv_95</td>\n",
       "      <td>0.154594</td>\n",
       "      <td>0.000000</td>\n",
       "    </tr>\n",
       "    <tr>\n",
       "      <th>10</th>\n",
       "      <td>rel_median_orig_upb</td>\n",
       "      <td>-0.000770</td>\n",
       "      <td>0.012950</td>\n",
       "    </tr>\n",
       "    <tr>\n",
       "      <th>11</th>\n",
       "      <td>num_unit</td>\n",
       "      <td>0.091715</td>\n",
       "      <td>0.119075</td>\n",
       "    </tr>\n",
       "    <tr>\n",
       "      <th>12</th>\n",
       "      <td>cnt_borr</td>\n",
       "      <td>-0.620287</td>\n",
       "      <td>0.000000</td>\n",
       "    </tr>\n",
       "    <tr>\n",
       "      <th>13</th>\n",
       "      <td>flag_fthb_Y</td>\n",
       "      <td>-0.266007</td>\n",
       "      <td>0.000000</td>\n",
       "    </tr>\n",
       "    <tr>\n",
       "      <th>14</th>\n",
       "      <td>occpy_sts_I</td>\n",
       "      <td>0.188696</td>\n",
       "      <td>0.003508</td>\n",
       "    </tr>\n",
       "    <tr>\n",
       "      <th>15</th>\n",
       "      <td>occpy_sts_S</td>\n",
       "      <td>0.086525</td>\n",
       "      <td>0.249109</td>\n",
       "    </tr>\n",
       "    <tr>\n",
       "      <th>16</th>\n",
       "      <td>channel_B</td>\n",
       "      <td>0.453050</td>\n",
       "      <td>0.000000</td>\n",
       "    </tr>\n",
       "    <tr>\n",
       "      <th>17</th>\n",
       "      <td>channel_C</td>\n",
       "      <td>-0.719563</td>\n",
       "      <td>0.000000</td>\n",
       "    </tr>\n",
       "    <tr>\n",
       "      <th>18</th>\n",
       "      <td>prop_type_CO</td>\n",
       "      <td>0.048531</td>\n",
       "      <td>0.330577</td>\n",
       "    </tr>\n",
       "    <tr>\n",
       "      <th>19</th>\n",
       "      <td>prop_type_PU</td>\n",
       "      <td>0.010662</td>\n",
       "      <td>0.788440</td>\n",
       "    </tr>\n",
       "    <tr>\n",
       "      <th>20</th>\n",
       "      <td>sato</td>\n",
       "      <td>0.131004</td>\n",
       "      <td>0.000091</td>\n",
       "    </tr>\n",
       "    <tr>\n",
       "      <th>21</th>\n",
       "      <td>loan_purpose_C</td>\n",
       "      <td>0.609075</td>\n",
       "      <td>0.000000</td>\n",
       "    </tr>\n",
       "  </tbody>\n",
       "</table>\n",
       "</div>"
      ],
      "text/plain": [
       "                feature  coeffienct   P_value\n",
       "0             Intercept    0.004315  0.995691\n",
       "1                  fico   -0.006511  0.000000\n",
       "2              fico_640   -0.004299  0.010475\n",
       "3              fico_710   -0.003858  0.000864\n",
       "4                   dti    0.014834  0.000000\n",
       "5                dti_40    0.015107  0.000118\n",
       "6                 ocltv    0.025594  0.000000\n",
       "7              ocltv_75    0.020016  0.006364\n",
       "8              ocltv_85   -0.050531  0.000002\n",
       "9              ocltv_95    0.154594  0.000000\n",
       "10  rel_median_orig_upb   -0.000770  0.012950\n",
       "11             num_unit    0.091715  0.119075\n",
       "12             cnt_borr   -0.620287  0.000000\n",
       "13          flag_fthb_Y   -0.266007  0.000000\n",
       "14          occpy_sts_I    0.188696  0.003508\n",
       "15          occpy_sts_S    0.086525  0.249109\n",
       "16            channel_B    0.453050  0.000000\n",
       "17            channel_C   -0.719563  0.000000\n",
       "18         prop_type_CO    0.048531  0.330577\n",
       "19         prop_type_PU    0.010662  0.788440\n",
       "20                 sato    0.131004  0.000091\n",
       "21       loan_purpose_C    0.609075  0.000000"
      ]
     },
     "execution_count": 12,
     "metadata": {},
     "output_type": "execute_result"
    }
   ],
   "source": [
    "coefs2, p2 = logit_pvalue(logmodel2, X_train2)\n",
    "X_cols_inc2 = X_cols2[:]\n",
    "X_cols_inc2.insert(0,'Intercept')\n",
    "p_value = pd.DataFrame({'feature':X_cols_inc2, 'coeffienct':coefs2, 'P_value':p2.round(6)})\n",
    "p_value "
   ]
  },
  {
   "cell_type": "markdown",
   "metadata": {},
   "source": [
    "<a id=\"measure\"></a>\n",
    "### KS"
   ]
  },
  {
   "cell_type": "code",
   "execution_count": 14,
   "metadata": {
    "scrolled": false
   },
   "outputs": [
    {
     "data": {
      "image/png": "[encoded data removed]",
      "text/plain": [
       "<Figure size 432x288 with 1 Axes>"
      ]
     },
     "metadata": {
      "needs_background": "light"
     },
     "output_type": "display_data"
    },
    {
     "data": {
      "image/png": "[encoded data removed]",
      "text/plain": [
       "<Figure size 432x288 with 1 Axes>"
      ]
     },
     "metadata": {
      "needs_background": "light"
     },
     "output_type": "display_data"
    }
   ],
   "source": [
    "# for validation set\n",
    "log_prob_model = -(logmodel2.predict_log_proba(X_test2)[:, 1] )*10\n",
    "lower_score2, upper_score2, final_score2=probhist(log_prob_model, y_test2)\n",
    "KS_max2 = KS(lower_score2, upper_score2, final_score2)"
   ]
  },
  {
   "cell_type": "code",
   "execution_count": 15,
   "metadata": {
    "scrolled": false
   },
   "outputs": [
    {
     "data": {
      "image/png": "[encoded data removed]",
      "text/plain": [
       "<Figure size 432x288 with 1 Axes>"
      ]
     },
     "metadata": {
      "needs_background": "light"
     },
     "output_type": "display_data"
    },
    {
     "data": {
      "image/png": "[encoded data removed]",
      "text/plain": [
       "<Figure size 432x288 with 1 Axes>"
      ]
     },
     "metadata": {
      "needs_background": "light"
     },
     "output_type": "display_data"
    }
   ],
   "source": [
    "#for development set\n",
    "log_prob_model = -(logmodel2.predict_log_proba(X_train2)[:, 1] )*10\n",
    "lower_score2, upper_score2, final_score2=probhist(log_prob_model, y_train2)\n",
    "KS_max2 = KS(lower_score2, upper_score2, final_score2)"
   ]
  },
  {
   "cell_type": "markdown",
   "metadata": {},
   "source": [
    "### AUC"
   ]
  },
  {
   "cell_type": "code",
   "execution_count": 15,
   "metadata": {},
   "outputs": [
    {
     "name": "stdout",
     "output_type": "stream",
     "text": [
      "0.8078810909357959\n"
     ]
    }
   ],
   "source": [
    "#for validation set\n",
    "auc1 = auc(logmodel2, X_test2, y_test2)\n",
    "print(auc1)"
   ]
  },
  {
   "cell_type": "code",
   "execution_count": 16,
   "metadata": {},
   "outputs": [
    {
     "name": "stdout",
     "output_type": "stream",
     "text": [
      "0.7888669070927244\n"
     ]
    }
   ],
   "source": [
    "#for development set\n",
    "auc1_train = auc(logmodel2, X_train2, y_train2)\n",
    "print(auc1_train)"
   ]
  },
  {
   "cell_type": "markdown",
   "metadata": {},
   "source": [
    "### ROC"
   ]
  },
  {
   "cell_type": "code",
   "execution_count": 17,
   "metadata": {},
   "outputs": [
    {
     "data": {
      "image/png": "[encoded data removed]",
      "text/plain": [
       "<Figure size 432x288 with 1 Axes>"
      ]
     },
     "metadata": {
      "needs_background": "light"
     },
     "output_type": "display_data"
    },
    {
     "name": "stdout",
     "output_type": "stream",
     "text": [
      "When fpr = 0.2, tpr =  0.626175759204515\n",
      "Best Threshold=0.052408\n"
     ]
    }
   ],
   "source": [
    "best_threshold, tpr, fpr = ROC(logmodel2, X_test2, y_test2, auc1)"
   ]
  },
  {
   "cell_type": "markdown",
   "metadata": {
    "hide_input": true
   },
   "source": [
    "<a id=\"confusion2\"></a>\n",
    "### Confusion Matrix"
   ]
  },
  {
   "cell_type": "markdown",
   "metadata": {},
   "source": [
    "#### using ROC as best threshold"
   ]
  },
  {
   "cell_type": "code",
   "execution_count": 18,
   "metadata": {
    "hide_input": false,
    "scrolled": false
   },
   "outputs": [
    {
     "name": "stdout",
     "output_type": "stream",
     "text": [
      "percentage : 0.3124922128083728\n",
      "index cut-off: 40129\n",
      "probability cut-off : 0.05240816093245963\n",
      "\n",
      "              precision    recall  f1-score   support\n",
      "\n",
      "           0       0.98      0.71      0.83    120974\n",
      "           1       0.14      0.76      0.24      7442\n",
      "\n",
      "    accuracy                           0.72    128416\n",
      "   macro avg       0.56      0.74      0.53    128416\n",
      "weighted avg       0.93      0.72      0.79    128416\n",
      "\n",
      "recall=0.75531\n",
      "precision=0.14007\n",
      "f1_score=0.23632\n"
     ]
    },
    {
     "data": {
      "image/png": "[encoded data removed]",
      "text/plain": [
       "<Figure size 432x288 with 2 Axes>"
      ]
     },
     "metadata": {
      "needs_background": "light"
     },
     "output_type": "display_data"
    }
   ],
   "source": [
    "y_prob = logmodel2.predict_proba(X_test2)[:,1]\n",
    "y_prob_new = np.sort(y_prob)[::-1]\n",
    "index = np.where(y_prob_new == best_threshold)[0][0]\n",
    "print('percentage :',index/len(y_test2))\n",
    "print('index cut-off:', index)\n",
    "print('probability cut-off :', best_threshold)\n",
    "print()\n",
    "\n",
    "y_prob, cm = cp(logmodel2, X_test2, y_test2, best_threshold)\n",
    "plot_confusion_matrix(cm, classes=[0,1], title='Confusion matrix')"
   ]
  },
  {
   "cell_type": "code",
   "execution_count": 21,
   "metadata": {},
   "outputs": [
    {
     "data": {
      "text/plain": [
       "192131000"
      ]
     },
     "execution_count": 21,
     "metadata": {},
     "output_type": "execute_result"
    }
   ],
   "source": [
    "2230*40500+28925*3520"
   ]
  },
  {
   "cell_type": "markdown",
   "metadata": {},
   "source": [
    "#### using max f1-score as threshold"
   ]
  },
  {
   "cell_type": "code",
   "execution_count": 135,
   "metadata": {},
   "outputs": [],
   "source": [
    "y_prob = logmodel2.predict_proba(X_test2)[:,1]\n",
    "y_prob_new = np.sort(y_prob)[::-1]"
   ]
  },
  {
   "cell_type": "code",
   "execution_count": 137,
   "metadata": {},
   "outputs": [
    {
     "data": {
      "text/plain": [
       "[<matplotlib.lines.Line2D at 0x1a26cf01d0>]"
      ]
     },
     "execution_count": 137,
     "metadata": {},
     "output_type": "execute_result"
    },
    {
     "data": {
      "image/png": "[encoded data removed]",
      "text/plain": [
       "<Figure size 432x288 with 1 Axes>"
      ]
     },
     "metadata": {
      "needs_background": "light"
     },
     "output_type": "display_data"
    }
   ],
   "source": [
    "plt.plot(y_prob_new)"
   ]
  },
  {
   "cell_type": "code",
   "execution_count": 144,
   "metadata": {
    "scrolled": false
   },
   "outputs": [
    {
     "name": "stdout",
     "output_type": "stream",
     "text": [
      "percentage : 0.12265605532020932\n",
      "index cut-off: 15751\n",
      "probability cut-off : 0.1108941788607104\n",
      "\n",
      "              precision    recall  f1-score   support\n",
      "\n",
      "           0       0.96      0.90      0.93    120974\n",
      "           1       0.21      0.45      0.29      7442\n",
      "\n",
      "    accuracy                           0.87    128416\n",
      "   macro avg       0.59      0.67      0.61    128416\n",
      "weighted avg       0.92      0.87      0.89    128416\n",
      "\n",
      "f1-score=0.28655\n",
      "precision=0.21097\n",
      "recall=0.44652\n",
      "\n"
     ]
    },
    {
     "data": {
      "image/png": "[encoded data removed]",
      "text/plain": [
       "<Figure size 432x288 with 2 Axes>"
      ]
     },
     "metadata": {
      "needs_background": "light"
     },
     "output_type": "display_data"
    }
   ],
   "source": [
    "y_prob = logmodel2.predict_proba(X_test2)[:,1]\n",
    "y_prob_new = np.sort(y_prob)[::-1]\n",
    "max_f1 = 0\n",
    "opt_prob = y_prob_new[0]\n",
    "index = 0\n",
    "for i in range(int(len(y_prob_new)*0.2)):\n",
    "    predict_mine = np.where(y_prob > y_prob_new[i], 1, 0)\n",
    "    y_true2, y_pred2 = y_test2, logmodel2.predict(X_test2)\n",
    "    if (f1_score(y_true2, predict_mine) > max_f1):\n",
    "        max_f1 = f1_score(y_true2, predict_mine)\n",
    "        opt_prob = y_prob_new[i]\n",
    "        index = i\n",
    "predict_mine = np.where(y_prob > opt_prob, 1, 0)\n",
    "y_true2, y_pred2 = y_test2, logmodel2.predict(X_test2)\n",
    "print('percentage :',index/len(y_test2))\n",
    "print('index cut-off:', index)\n",
    "print('probability cut-off :', opt_prob)\n",
    "print()\n",
    "\n",
    "y_prob, cm = cp(logmodel2, X_test2, y_test2, opt_prob)\n",
    "plot_confusion_matrix(cm, classes=[0,1], title='Confusion matrix')"
   ]
  },
  {
   "cell_type": "code",
   "execution_count": 20,
   "metadata": {},
   "outputs": [
    {
     "data": {
      "text/plain": [
       "210566060"
      ]
     },
     "execution_count": 20,
     "metadata": {},
     "output_type": "execute_result"
    }
   ],
   "source": [
    "4119*40500+12428*3520"
   ]
  },
  {
   "cell_type": "markdown",
   "metadata": {},
   "source": [
    "## sklearn-after adjust class_weight - cost sensitive learning"
   ]
  },
  {
   "cell_type": "code",
   "execution_count": 19,
   "metadata": {},
   "outputs": [],
   "source": [
    "class_weight = {1:40500, 0:3520}\n",
    "penalty = 'l2' \n",
    "C = 0.01\n",
    "solver = 'liblinear'\n",
    "logmodel3 = LogisticRegression(penalty=penalty,class_weight=class_weight,\n",
    "                               C=C,solver=solver,max_iter=1000,tol=1e-5)\n",
    "logmodel3.fit(X_train2, y_train2)\n",
    "\n",
    "#coefficient\n",
    "coef_sk3 = pd.DataFrame(logmodel3.coef_).T\n",
    "coef_sk3['feature'] = X_cols2\n",
    "coef_sk3.set_index('feature',inplace=True)\n"
   ]
  },
  {
   "cell_type": "code",
   "execution_count": 27,
   "metadata": {},
   "outputs": [
    {
     "data": {
      "text/html": [
       "<div>\n",
       "<style scoped>\n",
       "    .dataframe tbody tr th:only-of-type {\n",
       "        vertical-align: middle;\n",
       "    }\n",
       "\n",
       "    .dataframe tbody tr th {\n",
       "        vertical-align: top;\n",
       "    }\n",
       "\n",
       "    .dataframe thead th {\n",
       "        text-align: right;\n",
       "    }\n",
       "</style>\n",
       "<table border=\"1\" class=\"dataframe\">\n",
       "  <thead>\n",
       "    <tr style=\"text-align: right;\">\n",
       "      <th></th>\n",
       "      <th>feature</th>\n",
       "      <th>coeffienct</th>\n",
       "      <th>P_value</th>\n",
       "    </tr>\n",
       "  </thead>\n",
       "  <tbody>\n",
       "    <tr>\n",
       "      <th>0</th>\n",
       "      <td>Intercept</td>\n",
       "      <td>0.004315</td>\n",
       "      <td>0.000001</td>\n",
       "    </tr>\n",
       "    <tr>\n",
       "      <th>1</th>\n",
       "      <td>fico</td>\n",
       "      <td>-0.006511</td>\n",
       "      <td>0.000000</td>\n",
       "    </tr>\n",
       "    <tr>\n",
       "      <th>2</th>\n",
       "      <td>fico_640</td>\n",
       "      <td>-0.004299</td>\n",
       "      <td>0.000607</td>\n",
       "    </tr>\n",
       "    <tr>\n",
       "      <th>3</th>\n",
       "      <td>fico_710</td>\n",
       "      <td>-0.003858</td>\n",
       "      <td>0.000000</td>\n",
       "    </tr>\n",
       "    <tr>\n",
       "      <th>4</th>\n",
       "      <td>dti</td>\n",
       "      <td>0.014834</td>\n",
       "      <td>0.000000</td>\n",
       "    </tr>\n",
       "    <tr>\n",
       "      <th>5</th>\n",
       "      <td>dti_40</td>\n",
       "      <td>0.015107</td>\n",
       "      <td>0.000000</td>\n",
       "    </tr>\n",
       "    <tr>\n",
       "      <th>6</th>\n",
       "      <td>ocltv</td>\n",
       "      <td>0.025594</td>\n",
       "      <td>0.000000</td>\n",
       "    </tr>\n",
       "    <tr>\n",
       "      <th>7</th>\n",
       "      <td>ocltv_75</td>\n",
       "      <td>0.020016</td>\n",
       "      <td>0.000021</td>\n",
       "    </tr>\n",
       "    <tr>\n",
       "      <th>8</th>\n",
       "      <td>ocltv_85</td>\n",
       "      <td>-0.050531</td>\n",
       "      <td>0.000000</td>\n",
       "    </tr>\n",
       "    <tr>\n",
       "      <th>9</th>\n",
       "      <td>ocltv_95</td>\n",
       "      <td>0.154594</td>\n",
       "      <td>0.000000</td>\n",
       "    </tr>\n",
       "    <tr>\n",
       "      <th>10</th>\n",
       "      <td>rel_median_orig_upb</td>\n",
       "      <td>-0.000770</td>\n",
       "      <td>0.000000</td>\n",
       "    </tr>\n",
       "    <tr>\n",
       "      <th>11</th>\n",
       "      <td>num_unit</td>\n",
       "      <td>0.091715</td>\n",
       "      <td>0.000159</td>\n",
       "    </tr>\n",
       "    <tr>\n",
       "      <th>12</th>\n",
       "      <td>cnt_borr</td>\n",
       "      <td>-0.620287</td>\n",
       "      <td>0.000000</td>\n",
       "    </tr>\n",
       "    <tr>\n",
       "      <th>13</th>\n",
       "      <td>flag_fthb_Y</td>\n",
       "      <td>-0.266007</td>\n",
       "      <td>0.000000</td>\n",
       "    </tr>\n",
       "    <tr>\n",
       "      <th>14</th>\n",
       "      <td>occpy_sts_I</td>\n",
       "      <td>0.188696</td>\n",
       "      <td>0.000000</td>\n",
       "    </tr>\n",
       "    <tr>\n",
       "      <th>15</th>\n",
       "      <td>occpy_sts_S</td>\n",
       "      <td>0.086525</td>\n",
       "      <td>0.000062</td>\n",
       "    </tr>\n",
       "    <tr>\n",
       "      <th>16</th>\n",
       "      <td>channel_B</td>\n",
       "      <td>0.453050</td>\n",
       "      <td>0.000000</td>\n",
       "    </tr>\n",
       "    <tr>\n",
       "      <th>17</th>\n",
       "      <td>channel_C</td>\n",
       "      <td>-0.719563</td>\n",
       "      <td>0.000000</td>\n",
       "    </tr>\n",
       "    <tr>\n",
       "      <th>18</th>\n",
       "      <td>prop_type_CO</td>\n",
       "      <td>0.048531</td>\n",
       "      <td>0.000036</td>\n",
       "    </tr>\n",
       "    <tr>\n",
       "      <th>19</th>\n",
       "      <td>prop_type_PU</td>\n",
       "      <td>0.010662</td>\n",
       "      <td>0.006071</td>\n",
       "    </tr>\n",
       "    <tr>\n",
       "      <th>20</th>\n",
       "      <td>sato</td>\n",
       "      <td>0.131004</td>\n",
       "      <td>0.000000</td>\n",
       "    </tr>\n",
       "    <tr>\n",
       "      <th>21</th>\n",
       "      <td>loan_purpose_C</td>\n",
       "      <td>0.609075</td>\n",
       "      <td>0.000000</td>\n",
       "    </tr>\n",
       "  </tbody>\n",
       "</table>\n",
       "</div>"
      ],
      "text/plain": [
       "                feature  coeffienct   P_value\n",
       "0             Intercept    0.004315  0.000001\n",
       "1                  fico   -0.006511  0.000000\n",
       "2              fico_640   -0.004299  0.000607\n",
       "3              fico_710   -0.003858  0.000000\n",
       "4                   dti    0.014834  0.000000\n",
       "5                dti_40    0.015107  0.000000\n",
       "6                 ocltv    0.025594  0.000000\n",
       "7              ocltv_75    0.020016  0.000021\n",
       "8              ocltv_85   -0.050531  0.000000\n",
       "9              ocltv_95    0.154594  0.000000\n",
       "10  rel_median_orig_upb   -0.000770  0.000000\n",
       "11             num_unit    0.091715  0.000159\n",
       "12             cnt_borr   -0.620287  0.000000\n",
       "13          flag_fthb_Y   -0.266007  0.000000\n",
       "14          occpy_sts_I    0.188696  0.000000\n",
       "15          occpy_sts_S    0.086525  0.000062\n",
       "16            channel_B    0.453050  0.000000\n",
       "17            channel_C   -0.719563  0.000000\n",
       "18         prop_type_CO    0.048531  0.000036\n",
       "19         prop_type_PU    0.010662  0.006071\n",
       "20                 sato    0.131004  0.000000\n",
       "21       loan_purpose_C    0.609075  0.000000"
      ]
     },
     "execution_count": 27,
     "metadata": {},
     "output_type": "execute_result"
    }
   ],
   "source": [
    "coefs3, p3 = logit_pvalue(logmodel3, X_train2)\n",
    "X_cols_inc2 = X_cols2[:]\n",
    "X_cols_inc2.insert(0,'Intercept')\n",
    "p_value3 = pd.DataFrame({'feature':X_cols_inc2, 'coeffienct':coefs2, 'P_value':p3.round(6)})\n",
    "p_value3"
   ]
  },
  {
   "cell_type": "markdown",
   "metadata": {},
   "source": [
    "### KS"
   ]
  },
  {
   "cell_type": "code",
   "execution_count": 28,
   "metadata": {
    "scrolled": false
   },
   "outputs": [
    {
     "data": {
      "image/png": "[encoded data removed]",
      "text/plain": [
       "<Figure size 432x288 with 1 Axes>"
      ]
     },
     "metadata": {
      "needs_background": "light"
     },
     "output_type": "display_data"
    },
    {
     "data": {
      "image/png": "[encoded data removed]",
      "text/plain": [
       "<Figure size 432x288 with 1 Axes>"
      ]
     },
     "metadata": {
      "needs_background": "light"
     },
     "output_type": "display_data"
    }
   ],
   "source": [
    "#test\n",
    "log_prob_model3 = -(logmodel3.predict_log_proba(X_test2)[:, 1] )*10\n",
    "lower_score3, upper_score3, final_score3=probhist(log_prob_model3, y_test2)\n",
    "KS_max3 = KS(lower_score3, upper_score3, final_score3)"
   ]
  },
  {
   "cell_type": "code",
   "execution_count": 29,
   "metadata": {
    "scrolled": false
   },
   "outputs": [
    {
     "data": {
      "image/png": "[encoded data removed]",
      "text/plain": [
       "<Figure size 432x288 with 1 Axes>"
      ]
     },
     "metadata": {
      "needs_background": "light"
     },
     "output_type": "display_data"
    },
    {
     "data": {
      "image/png": "[encoded data removed]",
      "text/plain": [
       "<Figure size 432x288 with 1 Axes>"
      ]
     },
     "metadata": {
      "needs_background": "light"
     },
     "output_type": "display_data"
    }
   ],
   "source": [
    "#train\n",
    "log_prob_model3 = -(logmodel3.predict_log_proba(X_train2)[:, 1] )*10\n",
    "lower_score3, upper_score3, final_score3=probhist(log_prob_model3, y_train2)\n",
    "KS_max3_train = KS(lower_score3, upper_score3, final_score3)"
   ]
  },
  {
   "cell_type": "markdown",
   "metadata": {},
   "source": [
    "### auc"
   ]
  },
  {
   "cell_type": "code",
   "execution_count": 20,
   "metadata": {},
   "outputs": [
    {
     "name": "stdout",
     "output_type": "stream",
     "text": [
      "0.8084199448650521\n"
     ]
    }
   ],
   "source": [
    "#test\n",
    "auc3 = auc(logmodel3, X_test2, y_test2)\n",
    "print(auc3)"
   ]
  },
  {
   "cell_type": "code",
   "execution_count": 21,
   "metadata": {},
   "outputs": [
    {
     "name": "stdout",
     "output_type": "stream",
     "text": [
      "0.7895057208189108\n"
     ]
    }
   ],
   "source": [
    "#train\n",
    "auc3_train = auc(logmodel3, X_train2, y_train2)\n",
    "print(auc3_train)"
   ]
  },
  {
   "cell_type": "markdown",
   "metadata": {},
   "source": [
    "### roc "
   ]
  },
  {
   "cell_type": "code",
   "execution_count": 33,
   "metadata": {},
   "outputs": [
    {
     "data": {
      "image/png": "[encoded data removed]",
      "text/plain": [
       "<Figure size 432x288 with 1 Axes>"
      ]
     },
     "metadata": {
      "needs_background": "light"
     },
     "output_type": "display_data"
    },
    {
     "name": "stdout",
     "output_type": "stream",
     "text": [
      "When fpr = 0.2, tpr =  0.6272507390486428\n",
      "Best Threshold=0.380615\n"
     ]
    }
   ],
   "source": [
    "best_threshold3, tpr, fpr = ROC(logmodel3, X_test2, y_test2, auc3)"
   ]
  },
  {
   "cell_type": "markdown",
   "metadata": {},
   "source": [
    "### confusion matrix"
   ]
  },
  {
   "cell_type": "markdown",
   "metadata": {},
   "source": [
    "#### using ROC as best threshold"
   ]
  },
  {
   "cell_type": "code",
   "execution_count": 35,
   "metadata": {
    "scrolled": false
   },
   "outputs": [
    {
     "name": "stdout",
     "output_type": "stream",
     "text": [
      "percentage : 0.3177096311986045\n",
      "index cut-off: 40799\n",
      "probability cut-off : 0.3806146647191079\n",
      "\n",
      "              precision    recall  f1-score   support\n",
      "\n",
      "           0       0.98      0.71      0.82    120974\n",
      "           1       0.14      0.76      0.24      7442\n",
      "\n",
      "    accuracy                           0.71    128416\n",
      "   macro avg       0.56      0.74      0.53    128416\n",
      "weighted avg       0.93      0.71      0.79    128416\n",
      "\n",
      "recall=0.76216\n",
      "precision=0.13902\n",
      "f1_score=0.23515\n"
     ]
    },
    {
     "data": {
      "image/png": "[encoded data removed]",
      "text/plain": [
       "<Figure size 432x288 with 2 Axes>"
      ]
     },
     "metadata": {
      "needs_background": "light"
     },
     "output_type": "display_data"
    }
   ],
   "source": [
    "y_prob3 = logmodel3.predict_proba(X_test2)[:,1]\n",
    "y_prob_new3 = np.sort(y_prob3)[::-1]\n",
    "index3 = np.where(y_prob_new3 == best_threshold3)[0][0]\n",
    "print('percentage :',index3/len(y_test2))\n",
    "print('index cut-off:', index3)\n",
    "print('probability cut-off :', best_threshold3)\n",
    "print()\n",
    "\n",
    "y_prob3, cm3 = cp(logmodel3, X_test2, y_test2, best_threshold3)\n",
    "plot_confusion_matrix(cm3, classes=[0,1], title='Confusion matrix')"
   ]
  },
  {
   "cell_type": "code",
   "execution_count": 36,
   "metadata": {},
   "outputs": [
    {
     "data": {
      "text/plain": [
       "195332040"
      ]
     },
     "execution_count": 36,
     "metadata": {},
     "output_type": "execute_result"
    }
   ],
   "source": [
    "1770*40500+35127*3520"
   ]
  },
  {
   "cell_type": "markdown",
   "metadata": {},
   "source": [
    "#### using max f1-score as threshold"
   ]
  },
  {
   "cell_type": "code",
   "execution_count": 60,
   "metadata": {},
   "outputs": [],
   "source": [
    "y_prob3 = logmodel3.predict_proba(X_test2)[:,1]\n",
    "y_prob_new3 = np.sort(y_prob3)[::-1]"
   ]
  },
  {
   "cell_type": "code",
   "execution_count": 37,
   "metadata": {},
   "outputs": [
    {
     "data": {
      "text/plain": [
       "[<matplotlib.lines.Line2D at 0x1c233a5b70>]"
      ]
     },
     "execution_count": 37,
     "metadata": {},
     "output_type": "execute_result"
    },
    {
     "data": {
      "image/png": "[encoded data removed]",
      "text/plain": [
       "<Figure size 432x288 with 1 Axes>"
      ]
     },
     "metadata": {
      "needs_background": "light"
     },
     "output_type": "display_data"
    }
   ],
   "source": [
    "plt.plot(y_prob_new3)"
   ]
  },
  {
   "cell_type": "code",
   "execution_count": 54,
   "metadata": {
    "scrolled": false
   },
   "outputs": [
    {
     "name": "stdout",
     "output_type": "stream",
     "text": [
      "percentage : 0.13122975330176925\n",
      "index cut-off: 16852\n",
      "probability cut-off : 0.5873789330021234\n",
      "\n",
      "              precision    recall  f1-score   support\n",
      "\n",
      "           0       0.96      0.89      0.93    120974\n",
      "           1       0.21      0.47      0.29      7442\n",
      "\n",
      "    accuracy                           0.86    128416\n",
      "   macro avg       0.59      0.68      0.61    128416\n",
      "weighted avg       0.92      0.86      0.89    128416\n",
      "\n",
      "recall=0.46694\n",
      "precision=0.20621\n",
      "f1_score=0.28608\n"
     ]
    },
    {
     "data": {
      "image/png": "[encoded data removed]",
      "text/plain": [
       "<Figure size 432x288 with 2 Axes>"
      ]
     },
     "metadata": {
      "needs_background": "light"
     },
     "output_type": "display_data"
    }
   ],
   "source": [
    "y_prob = logmodel3.predict_proba(X_test2)[:,1]\n",
    "y_prob_new = np.sort(y_prob)[::-1]\n",
    "max_f1 = 0\n",
    "opt_prob = y_prob_new[0]\n",
    "index = 0\n",
    "for i in range(int(len(y_prob_new)*0.2)):\n",
    "    predict_mine = np.where(y_prob > y_prob_new[i], 1, 0)\n",
    "    y_true2, y_pred2 = y_test2, logmodel3.predict(X_test2)\n",
    "    if (f1_score(y_true2, predict_mine) > max_f1):\n",
    "        max_f1 = f1_score(y_true2, predict_mine)\n",
    "        opt_prob = y_prob_new[i]\n",
    "        index = i\n",
    "predict_mine = np.where(y_prob > opt_prob, 1, 0)\n",
    "y_true2, y_pred2 = y_test2, logmodel3.predict(X_test2)\n",
    "print('percentage :',index/len(y_test2))\n",
    "print('index cut-off:', index)\n",
    "print('probability cut-off :', opt_prob)\n",
    "print()\n",
    "\n",
    "y_prob, cm = cp(logmodel3, X_test2, y_test2, opt_prob)\n",
    "plot_confusion_matrix(cm, classes=[0,1], title='Confusion matrix')"
   ]
  },
  {
   "cell_type": "code",
   "execution_count": 55,
   "metadata": {},
   "outputs": [
    {
     "data": {
      "text/plain": [
       "207750540"
      ]
     },
     "execution_count": 55,
     "metadata": {},
     "output_type": "execute_result"
    }
   ],
   "source": [
    "3967*40500+13377*3520"
   ]
  },
  {
   "cell_type": "markdown",
   "metadata": {},
   "source": [
    "## oversampling"
   ]
  },
  {
   "cell_type": "markdown",
   "metadata": {},
   "source": [
    "### random oversampling"
   ]
  },
  {
   "cell_type": "code",
   "execution_count": 48,
   "metadata": {},
   "outputs": [
    {
     "name": "stdout",
     "output_type": "stream",
     "text": [
      "[(0, 118556), (1, 118556)]\n"
     ]
    }
   ],
   "source": [
    "#random oversampling\n",
    "from imblearn.over_sampling import RandomOverSampler\n",
    "ros2 = RandomOverSampler(random_state=0)\n",
    "X_train2_b, y_train2_b = ros2.fit_resample(X_train2, y_train2)\n",
    "\n",
    "from collections import Counter\n",
    "print(sorted(Counter(y_train2_b).items()))"
   ]
  },
  {
   "cell_type": "code",
   "execution_count": 45,
   "metadata": {},
   "outputs": [
    {
     "data": {
      "text/html": [
       "<div>\n",
       "<style scoped>\n",
       "    .dataframe tbody tr th:only-of-type {\n",
       "        vertical-align: middle;\n",
       "    }\n",
       "\n",
       "    .dataframe tbody tr th {\n",
       "        vertical-align: top;\n",
       "    }\n",
       "\n",
       "    .dataframe thead th {\n",
       "        text-align: right;\n",
       "    }\n",
       "</style>\n",
       "<table border=\"1\" class=\"dataframe\">\n",
       "  <thead>\n",
       "    <tr style=\"text-align: right;\">\n",
       "      <th></th>\n",
       "      <th>feature</th>\n",
       "      <th>coeffienct</th>\n",
       "      <th>P_value</th>\n",
       "    </tr>\n",
       "  </thead>\n",
       "  <tbody>\n",
       "    <tr>\n",
       "      <th>0</th>\n",
       "      <td>Intercept</td>\n",
       "      <td>0.287643</td>\n",
       "      <td>0.408502</td>\n",
       "    </tr>\n",
       "    <tr>\n",
       "      <th>1</th>\n",
       "      <td>fico</td>\n",
       "      <td>-0.002339</td>\n",
       "      <td>0.000021</td>\n",
       "    </tr>\n",
       "    <tr>\n",
       "      <th>2</th>\n",
       "      <td>fico_640</td>\n",
       "      <td>-0.010213</td>\n",
       "      <td>0.000000</td>\n",
       "    </tr>\n",
       "    <tr>\n",
       "      <th>3</th>\n",
       "      <td>fico_710</td>\n",
       "      <td>-0.002430</td>\n",
       "      <td>0.000000</td>\n",
       "    </tr>\n",
       "    <tr>\n",
       "      <th>4</th>\n",
       "      <td>dti</td>\n",
       "      <td>0.015585</td>\n",
       "      <td>0.000000</td>\n",
       "    </tr>\n",
       "    <tr>\n",
       "      <th>5</th>\n",
       "      <td>dti_40</td>\n",
       "      <td>0.018446</td>\n",
       "      <td>0.000000</td>\n",
       "    </tr>\n",
       "    <tr>\n",
       "      <th>6</th>\n",
       "      <td>ocltv</td>\n",
       "      <td>0.027711</td>\n",
       "      <td>0.000000</td>\n",
       "    </tr>\n",
       "    <tr>\n",
       "      <th>7</th>\n",
       "      <td>ocltv_75</td>\n",
       "      <td>0.014392</td>\n",
       "      <td>0.000000</td>\n",
       "    </tr>\n",
       "    <tr>\n",
       "      <th>8</th>\n",
       "      <td>ocltv_85</td>\n",
       "      <td>-0.035770</td>\n",
       "      <td>0.000000</td>\n",
       "    </tr>\n",
       "    <tr>\n",
       "      <th>9</th>\n",
       "      <td>ocltv_95</td>\n",
       "      <td>0.139598</td>\n",
       "      <td>0.000000</td>\n",
       "    </tr>\n",
       "    <tr>\n",
       "      <th>10</th>\n",
       "      <td>rel_median_orig_upb</td>\n",
       "      <td>-0.001025</td>\n",
       "      <td>0.000000</td>\n",
       "    </tr>\n",
       "    <tr>\n",
       "      <th>11</th>\n",
       "      <td>num_unit</td>\n",
       "      <td>0.134391</td>\n",
       "      <td>0.000000</td>\n",
       "    </tr>\n",
       "    <tr>\n",
       "      <th>12</th>\n",
       "      <td>cnt_borr</td>\n",
       "      <td>-0.746369</td>\n",
       "      <td>0.000000</td>\n",
       "    </tr>\n",
       "    <tr>\n",
       "      <th>13</th>\n",
       "      <td>flag_fthb_Y</td>\n",
       "      <td>-0.329681</td>\n",
       "      <td>0.000000</td>\n",
       "    </tr>\n",
       "    <tr>\n",
       "      <th>14</th>\n",
       "      <td>occpy_sts_I</td>\n",
       "      <td>0.222352</td>\n",
       "      <td>0.000000</td>\n",
       "    </tr>\n",
       "    <tr>\n",
       "      <th>15</th>\n",
       "      <td>occpy_sts_S</td>\n",
       "      <td>0.106491</td>\n",
       "      <td>0.000030</td>\n",
       "    </tr>\n",
       "    <tr>\n",
       "      <th>16</th>\n",
       "      <td>channel_B</td>\n",
       "      <td>0.416503</td>\n",
       "      <td>0.000000</td>\n",
       "    </tr>\n",
       "    <tr>\n",
       "      <th>17</th>\n",
       "      <td>channel_C</td>\n",
       "      <td>-0.950994</td>\n",
       "      <td>0.000000</td>\n",
       "    </tr>\n",
       "    <tr>\n",
       "      <th>18</th>\n",
       "      <td>prop_type_CO</td>\n",
       "      <td>0.130288</td>\n",
       "      <td>0.000000</td>\n",
       "    </tr>\n",
       "    <tr>\n",
       "      <th>19</th>\n",
       "      <td>prop_type_PU</td>\n",
       "      <td>0.076846</td>\n",
       "      <td>0.000000</td>\n",
       "    </tr>\n",
       "    <tr>\n",
       "      <th>20</th>\n",
       "      <td>sato</td>\n",
       "      <td>0.129575</td>\n",
       "      <td>0.000000</td>\n",
       "    </tr>\n",
       "    <tr>\n",
       "      <th>21</th>\n",
       "      <td>loan_purpose_C</td>\n",
       "      <td>0.716048</td>\n",
       "      <td>0.000000</td>\n",
       "    </tr>\n",
       "  </tbody>\n",
       "</table>\n",
       "</div>"
      ],
      "text/plain": [
       "                feature  coeffienct   P_value\n",
       "0             Intercept    0.287643  0.408502\n",
       "1                  fico   -0.002339  0.000021\n",
       "2              fico_640   -0.010213  0.000000\n",
       "3              fico_710   -0.002430  0.000000\n",
       "4                   dti    0.015585  0.000000\n",
       "5                dti_40    0.018446  0.000000\n",
       "6                 ocltv    0.027711  0.000000\n",
       "7              ocltv_75    0.014392  0.000000\n",
       "8              ocltv_85   -0.035770  0.000000\n",
       "9              ocltv_95    0.139598  0.000000\n",
       "10  rel_median_orig_upb   -0.001025  0.000000\n",
       "11             num_unit    0.134391  0.000000\n",
       "12             cnt_borr   -0.746369  0.000000\n",
       "13          flag_fthb_Y   -0.329681  0.000000\n",
       "14          occpy_sts_I    0.222352  0.000000\n",
       "15          occpy_sts_S    0.106491  0.000030\n",
       "16            channel_B    0.416503  0.000000\n",
       "17            channel_C   -0.950994  0.000000\n",
       "18         prop_type_CO    0.130288  0.000000\n",
       "19         prop_type_PU    0.076846  0.000000\n",
       "20                 sato    0.129575  0.000000\n",
       "21       loan_purpose_C    0.716048  0.000000"
      ]
     },
     "execution_count": 45,
     "metadata": {},
     "output_type": "execute_result"
    }
   ],
   "source": [
    "penalty = 'l2' \n",
    "C = 0.01 \n",
    "solver = 'liblinear'\n",
    "logmodel_random,coef_sk_random = logitR(penalty,C,solver,X_train2_b, y_train2_b, X_cols2)\n",
    "\n",
    "coefs, p = logit_pvalue(logmodel_random, X_train2_b)\n",
    "X_cols_inc = X_cols2[:]\n",
    "X_cols_inc.insert(0,'Intercept')\n",
    "p_value = pd.DataFrame({'feature':X_cols_inc, 'coeffienct':coefs, 'P_value':p.round(6)})\n",
    "p_value "
   ]
  },
  {
   "cell_type": "code",
   "execution_count": 46,
   "metadata": {},
   "outputs": [
    {
     "name": "stdout",
     "output_type": "stream",
     "text": [
      "0.8080817288406397\n"
     ]
    }
   ],
   "source": [
    "#for validation set\n",
    "auc_random = auc(logmodel_random, X_test2, y_test2)\n",
    "print(auc_random)"
   ]
  },
  {
   "cell_type": "markdown",
   "metadata": {},
   "source": [
    "### smote oversampling"
   ]
  },
  {
   "cell_type": "code",
   "execution_count": 49,
   "metadata": {},
   "outputs": [
    {
     "name": "stdout",
     "output_type": "stream",
     "text": [
      "[(0, 118556), (1, 118556)]\n"
     ]
    }
   ],
   "source": [
    "#smote\n",
    "from imblearn.over_sampling import SMOTE\n",
    "os2 = SMOTE(random_state=0)\n",
    "X_train2_b, y_train2_b=os2.fit_sample(X_train2, y_train2)\n",
    "\n",
    "from collections import Counter\n",
    "print(sorted(Counter(y_train2_b).items()))"
   ]
  },
  {
   "cell_type": "code",
   "execution_count": 50,
   "metadata": {},
   "outputs": [
    {
     "data": {
      "text/html": [
       "<div>\n",
       "<style scoped>\n",
       "    .dataframe tbody tr th:only-of-type {\n",
       "        vertical-align: middle;\n",
       "    }\n",
       "\n",
       "    .dataframe tbody tr th {\n",
       "        vertical-align: top;\n",
       "    }\n",
       "\n",
       "    .dataframe thead th {\n",
       "        text-align: right;\n",
       "    }\n",
       "</style>\n",
       "<table border=\"1\" class=\"dataframe\">\n",
       "  <thead>\n",
       "    <tr style=\"text-align: right;\">\n",
       "      <th></th>\n",
       "      <th>feature</th>\n",
       "      <th>coeffienct</th>\n",
       "      <th>P_value</th>\n",
       "    </tr>\n",
       "  </thead>\n",
       "  <tbody>\n",
       "    <tr>\n",
       "      <th>0</th>\n",
       "      <td>Intercept</td>\n",
       "      <td>0.406802</td>\n",
       "      <td>0.297228</td>\n",
       "    </tr>\n",
       "    <tr>\n",
       "      <th>1</th>\n",
       "      <td>fico</td>\n",
       "      <td>0.001838</td>\n",
       "      <td>0.002831</td>\n",
       "    </tr>\n",
       "    <tr>\n",
       "      <th>2</th>\n",
       "      <td>fico_640</td>\n",
       "      <td>-0.014830</td>\n",
       "      <td>0.000000</td>\n",
       "    </tr>\n",
       "    <tr>\n",
       "      <th>3</th>\n",
       "      <td>fico_710</td>\n",
       "      <td>-0.003811</td>\n",
       "      <td>0.000000</td>\n",
       "    </tr>\n",
       "    <tr>\n",
       "      <th>4</th>\n",
       "      <td>dti</td>\n",
       "      <td>0.023593</td>\n",
       "      <td>0.000000</td>\n",
       "    </tr>\n",
       "    <tr>\n",
       "      <th>5</th>\n",
       "      <td>dti_40</td>\n",
       "      <td>-0.003836</td>\n",
       "      <td>0.022598</td>\n",
       "    </tr>\n",
       "    <tr>\n",
       "      <th>6</th>\n",
       "      <td>ocltv</td>\n",
       "      <td>0.035439</td>\n",
       "      <td>0.000000</td>\n",
       "    </tr>\n",
       "    <tr>\n",
       "      <th>7</th>\n",
       "      <td>ocltv_75</td>\n",
       "      <td>-0.040329</td>\n",
       "      <td>0.000000</td>\n",
       "    </tr>\n",
       "    <tr>\n",
       "      <th>8</th>\n",
       "      <td>ocltv_85</td>\n",
       "      <td>0.016346</td>\n",
       "      <td>0.000328</td>\n",
       "    </tr>\n",
       "    <tr>\n",
       "      <th>9</th>\n",
       "      <td>ocltv_95</td>\n",
       "      <td>0.057948</td>\n",
       "      <td>0.000000</td>\n",
       "    </tr>\n",
       "    <tr>\n",
       "      <th>10</th>\n",
       "      <td>rel_median_orig_upb</td>\n",
       "      <td>0.001110</td>\n",
       "      <td>0.000000</td>\n",
       "    </tr>\n",
       "    <tr>\n",
       "      <th>11</th>\n",
       "      <td>num_unit</td>\n",
       "      <td>-0.630816</td>\n",
       "      <td>0.000000</td>\n",
       "    </tr>\n",
       "    <tr>\n",
       "      <th>12</th>\n",
       "      <td>cnt_borr</td>\n",
       "      <td>-1.860535</td>\n",
       "      <td>0.000000</td>\n",
       "    </tr>\n",
       "    <tr>\n",
       "      <th>13</th>\n",
       "      <td>flag_fthb_Y</td>\n",
       "      <td>-2.090494</td>\n",
       "      <td>0.000000</td>\n",
       "    </tr>\n",
       "    <tr>\n",
       "      <th>14</th>\n",
       "      <td>occpy_sts_I</td>\n",
       "      <td>-1.199044</td>\n",
       "      <td>0.000000</td>\n",
       "    </tr>\n",
       "    <tr>\n",
       "      <th>15</th>\n",
       "      <td>occpy_sts_S</td>\n",
       "      <td>-1.622997</td>\n",
       "      <td>0.000000</td>\n",
       "    </tr>\n",
       "    <tr>\n",
       "      <th>16</th>\n",
       "      <td>channel_B</td>\n",
       "      <td>-0.513541</td>\n",
       "      <td>0.000000</td>\n",
       "    </tr>\n",
       "    <tr>\n",
       "      <th>17</th>\n",
       "      <td>channel_C</td>\n",
       "      <td>-3.116573</td>\n",
       "      <td>0.000000</td>\n",
       "    </tr>\n",
       "    <tr>\n",
       "      <th>18</th>\n",
       "      <td>prop_type_CO</td>\n",
       "      <td>-1.855989</td>\n",
       "      <td>0.000000</td>\n",
       "    </tr>\n",
       "    <tr>\n",
       "      <th>19</th>\n",
       "      <td>prop_type_PU</td>\n",
       "      <td>-1.522021</td>\n",
       "      <td>0.000000</td>\n",
       "    </tr>\n",
       "    <tr>\n",
       "      <th>20</th>\n",
       "      <td>sato</td>\n",
       "      <td>0.277450</td>\n",
       "      <td>0.000000</td>\n",
       "    </tr>\n",
       "    <tr>\n",
       "      <th>21</th>\n",
       "      <td>loan_purpose_C</td>\n",
       "      <td>-0.475560</td>\n",
       "      <td>0.000000</td>\n",
       "    </tr>\n",
       "  </tbody>\n",
       "</table>\n",
       "</div>"
      ],
      "text/plain": [
       "                feature  coeffienct   P_value\n",
       "0             Intercept    0.406802  0.297228\n",
       "1                  fico    0.001838  0.002831\n",
       "2              fico_640   -0.014830  0.000000\n",
       "3              fico_710   -0.003811  0.000000\n",
       "4                   dti    0.023593  0.000000\n",
       "5                dti_40   -0.003836  0.022598\n",
       "6                 ocltv    0.035439  0.000000\n",
       "7              ocltv_75   -0.040329  0.000000\n",
       "8              ocltv_85    0.016346  0.000328\n",
       "9              ocltv_95    0.057948  0.000000\n",
       "10  rel_median_orig_upb    0.001110  0.000000\n",
       "11             num_unit   -0.630816  0.000000\n",
       "12             cnt_borr   -1.860535  0.000000\n",
       "13          flag_fthb_Y   -2.090494  0.000000\n",
       "14          occpy_sts_I   -1.199044  0.000000\n",
       "15          occpy_sts_S   -1.622997  0.000000\n",
       "16            channel_B   -0.513541  0.000000\n",
       "17            channel_C   -3.116573  0.000000\n",
       "18         prop_type_CO   -1.855989  0.000000\n",
       "19         prop_type_PU   -1.522021  0.000000\n",
       "20                 sato    0.277450  0.000000\n",
       "21       loan_purpose_C   -0.475560  0.000000"
      ]
     },
     "execution_count": 50,
     "metadata": {},
     "output_type": "execute_result"
    }
   ],
   "source": [
    "penalty = 'l2' \n",
    "C = 0.01 \n",
    "solver = 'liblinear'\n",
    "logmodel_smote,coef_sk_smote = logitR(penalty,C,solver,X_train2_b, y_train2_b, X_cols2)\n",
    "\n",
    "coefs, p = logit_pvalue(logmodel_smote, X_train2_b)\n",
    "X_cols_inc = X_cols2[:]\n",
    "X_cols_inc.insert(0,'Intercept')\n",
    "p_value = pd.DataFrame({'feature':X_cols_inc, 'coeffienct':coefs, 'P_value':p.round(6)})\n",
    "p_value "
   ]
  },
  {
   "cell_type": "code",
   "execution_count": 51,
   "metadata": {},
   "outputs": [
    {
     "name": "stdout",
     "output_type": "stream",
     "text": [
      "0.7297850646339695\n"
     ]
    }
   ],
   "source": [
    "#for validation set\n",
    "auc_smote = auc(logmodel_smote, X_test2, y_test2)\n",
    "print(auc_smote)"
   ]
  },
  {
   "cell_type": "code",
   "execution_count": null,
   "metadata": {},
   "outputs": [],
   "source": []
  }
 ],
 "metadata": {
  "kernelspec": {
   "display_name": "Python 3",
   "language": "python",
   "name": "python3"
  },
  "language_info": {
   "codemirror_mode": {
    "name": "ipython",
    "version": 3
   },
   "file_extension": ".py",
   "mimetype": "text/x-python",
   "name": "python",
   "nbconvert_exporter": "python",
   "pygments_lexer": "ipython3",
   "version": "3.6.10"
  },
  "toc": {
   "base_numbering": 1,
   "nav_menu": {},
   "number_sections": true,
   "sideBar": true,
   "skip_h1_title": false,
   "title_cell": "Contents",
   "title_sidebar": "Contents",
   "toc_cell": true,
   "toc_position": {
    "height": "calc(100% - 180px)",
    "left": "10px",
    "top": "150px",
    "width": "326px"
   },
   "toc_section_display": true,
   "toc_window_display": true
  },
  "varInspector": {
   "cols": {
    "lenName": 16,
    "lenType": 16,
    "lenVar": 40
   },
   "kernels_config": {
    "python": {
     "delete_cmd_postfix": "",
     "delete_cmd_prefix": "del ",
     "library": "var_list.py",
     "varRefreshCmd": "print(var_dic_list())"
    },
    "r": {
     "delete_cmd_postfix": ") ",
     "delete_cmd_prefix": "rm(",
     "library": "var_list.r",
     "varRefreshCmd": "cat(var_dic_list()) "
    }
   },
   "types_to_exclude": [
    "module",
    "function",
    "builtin_function_or_method",
    "instance",
    "_Feature"
   ],
   "window_display": false
  }
 },
 "nbformat": 4,
 "nbformat_minor": 4
}
